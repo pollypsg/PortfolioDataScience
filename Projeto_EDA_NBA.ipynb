{
 "cells": [
  {
   "cell_type": "markdown",
   "id": "20f6b236-4044-43b3-994e-850ad4219984",
   "metadata": {},
   "source": [
    "# Análise Exploratória de Dados - NBA"
   ]
  },
  {
   "cell_type": "markdown",
   "id": "b5ddef35-2d96-4d0f-93dc-6145b4efedc1",
   "metadata": {},
   "source": [
    "## Objetivo\n",
    "\n",
    "> Depois de extrair os dados das temporadas 2000 à 2022 da NBA em [Sports Reference](https://www.sports-reference.com/) e salvarmos em arquivos CSV, podemos analisá-los para conhecer melhor nossos dados, utilizando Pandas, Matplotlib, Seaborn e etc. \n",
    "\n",
    "Inicialmente, vamos analisar a temporada 2000:"
   ]
  },
  {
   "cell_type": "code",
   "execution_count": 2,
   "id": "b3b4d495-f823-4321-afcc-bf8f244690cf",
   "metadata": {},
   "outputs": [],
   "source": [
    "# Bibliotecas\n",
    "\n",
    "import pandas as pd\n",
    "import numpy as np\n",
    "import matplotlib.pyplot as plt\n",
    "import seaborn as sbn"
   ]
  },
  {
   "cell_type": "code",
   "execution_count": 3,
   "id": "e0869397-bde9-4efb-8b4d-3b6bd563df8a",
   "metadata": {},
   "outputs": [],
   "source": [
    "# Datasets\n",
    "Season_2000 = pd.read_csv('Season_2000.csv', sep = ',', index_col = 0)"
   ]
  },
  {
   "cell_type": "code",
   "execution_count": 4,
   "id": "cfaf8175-c4ae-44a1-b02b-4bfd5a244edd",
   "metadata": {},
   "outputs": [
    {
     "data": {
      "text/html": [
       "<div>\n",
       "<style scoped>\n",
       "    .dataframe tbody tr th:only-of-type {\n",
       "        vertical-align: middle;\n",
       "    }\n",
       "\n",
       "    .dataframe tbody tr th {\n",
       "        vertical-align: top;\n",
       "    }\n",
       "\n",
       "    .dataframe thead th {\n",
       "        text-align: right;\n",
       "    }\n",
       "</style>\n",
       "<table border=\"1\" class=\"dataframe\">\n",
       "  <thead>\n",
       "    <tr style=\"text-align: right;\">\n",
       "      <th></th>\n",
       "      <th>Player</th>\n",
       "      <th>Pos</th>\n",
       "      <th>Age</th>\n",
       "      <th>Tm</th>\n",
       "      <th>G</th>\n",
       "      <th>GS</th>\n",
       "      <th>MP</th>\n",
       "      <th>FG</th>\n",
       "      <th>FGA</th>\n",
       "      <th>FG%</th>\n",
       "      <th>...</th>\n",
       "      <th>FT%</th>\n",
       "      <th>ORB</th>\n",
       "      <th>DRB</th>\n",
       "      <th>TRB</th>\n",
       "      <th>AST</th>\n",
       "      <th>STL</th>\n",
       "      <th>BLK</th>\n",
       "      <th>TOV</th>\n",
       "      <th>PF</th>\n",
       "      <th>PTS</th>\n",
       "    </tr>\n",
       "  </thead>\n",
       "  <tbody>\n",
       "    <tr>\n",
       "      <th>0</th>\n",
       "      <td>Tariq Abdul-Wahad</td>\n",
       "      <td>SG</td>\n",
       "      <td>25.0</td>\n",
       "      <td>TOT</td>\n",
       "      <td>61.0</td>\n",
       "      <td>56.0</td>\n",
       "      <td>25.9</td>\n",
       "      <td>4.5</td>\n",
       "      <td>10.6</td>\n",
       "      <td>0.424</td>\n",
       "      <td>...</td>\n",
       "      <td>0.756</td>\n",
       "      <td>1.7</td>\n",
       "      <td>3.1</td>\n",
       "      <td>4.8</td>\n",
       "      <td>1.6</td>\n",
       "      <td>1.0</td>\n",
       "      <td>0.5</td>\n",
       "      <td>1.7</td>\n",
       "      <td>2.4</td>\n",
       "      <td>11.4</td>\n",
       "    </tr>\n",
       "    <tr>\n",
       "      <th>1</th>\n",
       "      <td>Tariq Abdul-Wahad</td>\n",
       "      <td>SG</td>\n",
       "      <td>25.0</td>\n",
       "      <td>ORL</td>\n",
       "      <td>46.0</td>\n",
       "      <td>46.0</td>\n",
       "      <td>26.2</td>\n",
       "      <td>4.8</td>\n",
       "      <td>11.2</td>\n",
       "      <td>0.433</td>\n",
       "      <td>...</td>\n",
       "      <td>0.762</td>\n",
       "      <td>1.7</td>\n",
       "      <td>3.5</td>\n",
       "      <td>5.2</td>\n",
       "      <td>1.6</td>\n",
       "      <td>1.2</td>\n",
       "      <td>0.3</td>\n",
       "      <td>1.9</td>\n",
       "      <td>2.5</td>\n",
       "      <td>12.2</td>\n",
       "    </tr>\n",
       "    <tr>\n",
       "      <th>2</th>\n",
       "      <td>Tariq Abdul-Wahad</td>\n",
       "      <td>SG</td>\n",
       "      <td>25.0</td>\n",
       "      <td>DEN</td>\n",
       "      <td>15.0</td>\n",
       "      <td>10.0</td>\n",
       "      <td>24.9</td>\n",
       "      <td>3.4</td>\n",
       "      <td>8.7</td>\n",
       "      <td>0.389</td>\n",
       "      <td>...</td>\n",
       "      <td>0.738</td>\n",
       "      <td>1.6</td>\n",
       "      <td>1.9</td>\n",
       "      <td>3.5</td>\n",
       "      <td>1.7</td>\n",
       "      <td>0.4</td>\n",
       "      <td>0.8</td>\n",
       "      <td>1.3</td>\n",
       "      <td>2.1</td>\n",
       "      <td>8.9</td>\n",
       "    </tr>\n",
       "    <tr>\n",
       "      <th>3</th>\n",
       "      <td>Shareef Abdur-Rahim</td>\n",
       "      <td>SF</td>\n",
       "      <td>23.0</td>\n",
       "      <td>VAN</td>\n",
       "      <td>82.0</td>\n",
       "      <td>82.0</td>\n",
       "      <td>39.3</td>\n",
       "      <td>7.2</td>\n",
       "      <td>15.6</td>\n",
       "      <td>0.465</td>\n",
       "      <td>...</td>\n",
       "      <td>0.809</td>\n",
       "      <td>2.7</td>\n",
       "      <td>7.4</td>\n",
       "      <td>10.1</td>\n",
       "      <td>3.3</td>\n",
       "      <td>1.1</td>\n",
       "      <td>1.1</td>\n",
       "      <td>3.0</td>\n",
       "      <td>3.0</td>\n",
       "      <td>20.3</td>\n",
       "    </tr>\n",
       "    <tr>\n",
       "      <th>4</th>\n",
       "      <td>Cory Alexander</td>\n",
       "      <td>PG</td>\n",
       "      <td>26.0</td>\n",
       "      <td>DEN</td>\n",
       "      <td>29.0</td>\n",
       "      <td>2.0</td>\n",
       "      <td>11.3</td>\n",
       "      <td>1.0</td>\n",
       "      <td>3.4</td>\n",
       "      <td>0.286</td>\n",
       "      <td>...</td>\n",
       "      <td>0.773</td>\n",
       "      <td>0.3</td>\n",
       "      <td>1.2</td>\n",
       "      <td>1.4</td>\n",
       "      <td>2.0</td>\n",
       "      <td>0.8</td>\n",
       "      <td>0.1</td>\n",
       "      <td>1.0</td>\n",
       "      <td>1.3</td>\n",
       "      <td>2.8</td>\n",
       "    </tr>\n",
       "  </tbody>\n",
       "</table>\n",
       "<p>5 rows × 29 columns</p>\n",
       "</div>"
      ],
      "text/plain": [
       "                Player Pos   Age   Tm     G    GS    MP   FG   FGA    FG%  \\\n",
       "0    Tariq Abdul-Wahad  SG  25.0  TOT  61.0  56.0  25.9  4.5  10.6  0.424   \n",
       "1    Tariq Abdul-Wahad  SG  25.0  ORL  46.0  46.0  26.2  4.8  11.2  0.433   \n",
       "2    Tariq Abdul-Wahad  SG  25.0  DEN  15.0  10.0  24.9  3.4   8.7  0.389   \n",
       "3  Shareef Abdur-Rahim  SF  23.0  VAN  82.0  82.0  39.3  7.2  15.6  0.465   \n",
       "4       Cory Alexander  PG  26.0  DEN  29.0   2.0  11.3  1.0   3.4  0.286   \n",
       "\n",
       "   ...    FT%  ORB  DRB   TRB  AST  STL  BLK  TOV   PF   PTS  \n",
       "0  ...  0.756  1.7  3.1   4.8  1.6  1.0  0.5  1.7  2.4  11.4  \n",
       "1  ...  0.762  1.7  3.5   5.2  1.6  1.2  0.3  1.9  2.5  12.2  \n",
       "2  ...  0.738  1.6  1.9   3.5  1.7  0.4  0.8  1.3  2.1   8.9  \n",
       "3  ...  0.809  2.7  7.4  10.1  3.3  1.1  1.1  3.0  3.0  20.3  \n",
       "4  ...  0.773  0.3  1.2   1.4  2.0  0.8  0.1  1.0  1.3   2.8  \n",
       "\n",
       "[5 rows x 29 columns]"
      ]
     },
     "execution_count": 4,
     "metadata": {},
     "output_type": "execute_result"
    }
   ],
   "source": [
    "Season_2000.head()"
   ]
  },
  {
   "cell_type": "code",
   "execution_count": 5,
   "id": "ad4489e0-300a-443b-9f67-57863f76c516",
   "metadata": {},
   "outputs": [
    {
     "data": {
      "text/plain": [
       "(517, 29)"
      ]
     },
     "execution_count": 5,
     "metadata": {},
     "output_type": "execute_result"
    }
   ],
   "source": [
    "Season_2000.shape"
   ]
  },
  {
   "cell_type": "code",
   "execution_count": 6,
   "id": "0262a58c-5066-4467-b0be-6db2d5eba0fe",
   "metadata": {},
   "outputs": [
    {
     "data": {
      "text/plain": [
       "Index(['Player', 'Pos', 'Age', 'Tm', 'G', 'GS', 'MP', 'FG', 'FGA', 'FG%', '3P',\n",
       "       '3PA', '3P%', '2P', '2PA', '2P%', 'eFG%', 'FT', 'FTA', 'FT%', 'ORB',\n",
       "       'DRB', 'TRB', 'AST', 'STL', 'BLK', 'TOV', 'PF', 'PTS'],\n",
       "      dtype='object')"
      ]
     },
     "execution_count": 6,
     "metadata": {},
     "output_type": "execute_result"
    }
   ],
   "source": [
    "Season_2000.columns"
   ]
  },
  {
   "cell_type": "markdown",
   "id": "1d5023b1-db9b-4c17-a97d-793e837d75a7",
   "metadata": {},
   "source": [
    "Abaixo vemos algumas estatísticas sobre os dados. percebemos que na linha *count* nos mostra quantidade total em cada coluna.\n",
    "*mean* mostra a média em cada coluna; *std* o desvio padrão; *min* o valor mínimo; 25% o primeiro quartil; 50% a mediana; \n",
    "75% terceiro quartil, *max* o valor máximo em cada coluna."
   ]
  },
  {
   "cell_type": "code",
   "execution_count": 7,
   "id": "cfb51ab4-ee5b-4fa5-baeb-01894c6caa63",
   "metadata": {},
   "outputs": [
    {
     "data": {
      "text/html": [
       "<div>\n",
       "<style scoped>\n",
       "    .dataframe tbody tr th:only-of-type {\n",
       "        vertical-align: middle;\n",
       "    }\n",
       "\n",
       "    .dataframe tbody tr th {\n",
       "        vertical-align: top;\n",
       "    }\n",
       "\n",
       "    .dataframe thead th {\n",
       "        text-align: right;\n",
       "    }\n",
       "</style>\n",
       "<table border=\"1\" class=\"dataframe\">\n",
       "  <thead>\n",
       "    <tr style=\"text-align: right;\">\n",
       "      <th></th>\n",
       "      <th>Age</th>\n",
       "      <th>G</th>\n",
       "      <th>GS</th>\n",
       "      <th>MP</th>\n",
       "      <th>FG</th>\n",
       "      <th>FGA</th>\n",
       "      <th>FG%</th>\n",
       "      <th>3P</th>\n",
       "      <th>3PA</th>\n",
       "      <th>3P%</th>\n",
       "      <th>...</th>\n",
       "      <th>FT%</th>\n",
       "      <th>ORB</th>\n",
       "      <th>DRB</th>\n",
       "      <th>TRB</th>\n",
       "      <th>AST</th>\n",
       "      <th>STL</th>\n",
       "      <th>BLK</th>\n",
       "      <th>TOV</th>\n",
       "      <th>PF</th>\n",
       "      <th>PTS</th>\n",
       "    </tr>\n",
       "  </thead>\n",
       "  <tbody>\n",
       "    <tr>\n",
       "      <th>count</th>\n",
       "      <td>496.000000</td>\n",
       "      <td>496.000000</td>\n",
       "      <td>496.000000</td>\n",
       "      <td>496.000000</td>\n",
       "      <td>496.00000</td>\n",
       "      <td>496.000000</td>\n",
       "      <td>494.000000</td>\n",
       "      <td>496.000000</td>\n",
       "      <td>496.000000</td>\n",
       "      <td>395.000000</td>\n",
       "      <td>...</td>\n",
       "      <td>472.000000</td>\n",
       "      <td>496.000000</td>\n",
       "      <td>496.000000</td>\n",
       "      <td>496.000000</td>\n",
       "      <td>496.000000</td>\n",
       "      <td>496.000000</td>\n",
       "      <td>496.000000</td>\n",
       "      <td>496.000000</td>\n",
       "      <td>496.000000</td>\n",
       "      <td>496.000000</td>\n",
       "    </tr>\n",
       "    <tr>\n",
       "      <th>mean</th>\n",
       "      <td>27.620968</td>\n",
       "      <td>51.340726</td>\n",
       "      <td>24.566532</td>\n",
       "      <td>19.774395</td>\n",
       "      <td>2.91371</td>\n",
       "      <td>6.636694</td>\n",
       "      <td>0.427391</td>\n",
       "      <td>0.373185</td>\n",
       "      <td>1.098992</td>\n",
       "      <td>0.264681</td>\n",
       "      <td>...</td>\n",
       "      <td>0.728875</td>\n",
       "      <td>1.024798</td>\n",
       "      <td>2.454032</td>\n",
       "      <td>3.479032</td>\n",
       "      <td>1.778427</td>\n",
       "      <td>0.652016</td>\n",
       "      <td>0.400403</td>\n",
       "      <td>1.219556</td>\n",
       "      <td>1.986895</td>\n",
       "      <td>7.680847</td>\n",
       "    </tr>\n",
       "    <tr>\n",
       "      <th>std</th>\n",
       "      <td>4.471400</td>\n",
       "      <td>27.146494</td>\n",
       "      <td>30.777068</td>\n",
       "      <td>10.319475</td>\n",
       "      <td>2.17149</td>\n",
       "      <td>4.679397</td>\n",
       "      <td>0.099196</td>\n",
       "      <td>0.509453</td>\n",
       "      <td>1.375742</td>\n",
       "      <td>0.179474</td>\n",
       "      <td>...</td>\n",
       "      <td>0.136669</td>\n",
       "      <td>0.839679</td>\n",
       "      <td>1.743335</td>\n",
       "      <td>2.476378</td>\n",
       "      <td>1.763983</td>\n",
       "      <td>0.469382</td>\n",
       "      <td>0.510812</td>\n",
       "      <td>0.812727</td>\n",
       "      <td>0.893167</td>\n",
       "      <td>5.775764</td>\n",
       "    </tr>\n",
       "    <tr>\n",
       "      <th>min</th>\n",
       "      <td>19.000000</td>\n",
       "      <td>1.000000</td>\n",
       "      <td>0.000000</td>\n",
       "      <td>1.000000</td>\n",
       "      <td>0.00000</td>\n",
       "      <td>0.000000</td>\n",
       "      <td>0.000000</td>\n",
       "      <td>0.000000</td>\n",
       "      <td>0.000000</td>\n",
       "      <td>0.000000</td>\n",
       "      <td>...</td>\n",
       "      <td>0.000000</td>\n",
       "      <td>0.000000</td>\n",
       "      <td>0.000000</td>\n",
       "      <td>0.000000</td>\n",
       "      <td>0.000000</td>\n",
       "      <td>0.000000</td>\n",
       "      <td>0.000000</td>\n",
       "      <td>0.000000</td>\n",
       "      <td>0.000000</td>\n",
       "      <td>0.000000</td>\n",
       "    </tr>\n",
       "    <tr>\n",
       "      <th>25%</th>\n",
       "      <td>24.000000</td>\n",
       "      <td>26.750000</td>\n",
       "      <td>0.000000</td>\n",
       "      <td>11.075000</td>\n",
       "      <td>1.20000</td>\n",
       "      <td>3.000000</td>\n",
       "      <td>0.394250</td>\n",
       "      <td>0.000000</td>\n",
       "      <td>0.000000</td>\n",
       "      <td>0.143000</td>\n",
       "      <td>...</td>\n",
       "      <td>0.667000</td>\n",
       "      <td>0.400000</td>\n",
       "      <td>1.200000</td>\n",
       "      <td>1.600000</td>\n",
       "      <td>0.600000</td>\n",
       "      <td>0.300000</td>\n",
       "      <td>0.100000</td>\n",
       "      <td>0.600000</td>\n",
       "      <td>1.300000</td>\n",
       "      <td>3.100000</td>\n",
       "    </tr>\n",
       "    <tr>\n",
       "      <th>50%</th>\n",
       "      <td>27.000000</td>\n",
       "      <td>58.000000</td>\n",
       "      <td>7.000000</td>\n",
       "      <td>19.200000</td>\n",
       "      <td>2.40000</td>\n",
       "      <td>5.400000</td>\n",
       "      <td>0.432500</td>\n",
       "      <td>0.100000</td>\n",
       "      <td>0.450000</td>\n",
       "      <td>0.311000</td>\n",
       "      <td>...</td>\n",
       "      <td>0.750000</td>\n",
       "      <td>0.800000</td>\n",
       "      <td>2.100000</td>\n",
       "      <td>2.900000</td>\n",
       "      <td>1.200000</td>\n",
       "      <td>0.600000</td>\n",
       "      <td>0.200000</td>\n",
       "      <td>1.000000</td>\n",
       "      <td>2.050000</td>\n",
       "      <td>6.300000</td>\n",
       "    </tr>\n",
       "    <tr>\n",
       "      <th>75%</th>\n",
       "      <td>31.000000</td>\n",
       "      <td>77.000000</td>\n",
       "      <td>53.250000</td>\n",
       "      <td>27.750000</td>\n",
       "      <td>4.10000</td>\n",
       "      <td>9.125000</td>\n",
       "      <td>0.471000</td>\n",
       "      <td>0.600000</td>\n",
       "      <td>1.900000</td>\n",
       "      <td>0.369000</td>\n",
       "      <td>...</td>\n",
       "      <td>0.809000</td>\n",
       "      <td>1.500000</td>\n",
       "      <td>3.300000</td>\n",
       "      <td>4.800000</td>\n",
       "      <td>2.500000</td>\n",
       "      <td>0.900000</td>\n",
       "      <td>0.500000</td>\n",
       "      <td>1.700000</td>\n",
       "      <td>2.600000</td>\n",
       "      <td>10.900000</td>\n",
       "    </tr>\n",
       "    <tr>\n",
       "      <th>max</th>\n",
       "      <td>39.000000</td>\n",
       "      <td>85.000000</td>\n",
       "      <td>82.000000</td>\n",
       "      <td>42.200000</td>\n",
       "      <td>12.10000</td>\n",
       "      <td>24.800000</td>\n",
       "      <td>1.000000</td>\n",
       "      <td>2.200000</td>\n",
       "      <td>6.300000</td>\n",
       "      <td>1.000000</td>\n",
       "      <td>...</td>\n",
       "      <td>1.000000</td>\n",
       "      <td>4.300000</td>\n",
       "      <td>10.400000</td>\n",
       "      <td>14.300000</td>\n",
       "      <td>10.100000</td>\n",
       "      <td>2.700000</td>\n",
       "      <td>3.700000</td>\n",
       "      <td>4.000000</td>\n",
       "      <td>4.500000</td>\n",
       "      <td>29.700000</td>\n",
       "    </tr>\n",
       "  </tbody>\n",
       "</table>\n",
       "<p>8 rows × 26 columns</p>\n",
       "</div>"
      ],
      "text/plain": [
       "              Age           G          GS          MP         FG         FGA  \\\n",
       "count  496.000000  496.000000  496.000000  496.000000  496.00000  496.000000   \n",
       "mean    27.620968   51.340726   24.566532   19.774395    2.91371    6.636694   \n",
       "std      4.471400   27.146494   30.777068   10.319475    2.17149    4.679397   \n",
       "min     19.000000    1.000000    0.000000    1.000000    0.00000    0.000000   \n",
       "25%     24.000000   26.750000    0.000000   11.075000    1.20000    3.000000   \n",
       "50%     27.000000   58.000000    7.000000   19.200000    2.40000    5.400000   \n",
       "75%     31.000000   77.000000   53.250000   27.750000    4.10000    9.125000   \n",
       "max     39.000000   85.000000   82.000000   42.200000   12.10000   24.800000   \n",
       "\n",
       "              FG%          3P         3PA         3P%  ...         FT%  \\\n",
       "count  494.000000  496.000000  496.000000  395.000000  ...  472.000000   \n",
       "mean     0.427391    0.373185    1.098992    0.264681  ...    0.728875   \n",
       "std      0.099196    0.509453    1.375742    0.179474  ...    0.136669   \n",
       "min      0.000000    0.000000    0.000000    0.000000  ...    0.000000   \n",
       "25%      0.394250    0.000000    0.000000    0.143000  ...    0.667000   \n",
       "50%      0.432500    0.100000    0.450000    0.311000  ...    0.750000   \n",
       "75%      0.471000    0.600000    1.900000    0.369000  ...    0.809000   \n",
       "max      1.000000    2.200000    6.300000    1.000000  ...    1.000000   \n",
       "\n",
       "              ORB         DRB         TRB         AST         STL         BLK  \\\n",
       "count  496.000000  496.000000  496.000000  496.000000  496.000000  496.000000   \n",
       "mean     1.024798    2.454032    3.479032    1.778427    0.652016    0.400403   \n",
       "std      0.839679    1.743335    2.476378    1.763983    0.469382    0.510812   \n",
       "min      0.000000    0.000000    0.000000    0.000000    0.000000    0.000000   \n",
       "25%      0.400000    1.200000    1.600000    0.600000    0.300000    0.100000   \n",
       "50%      0.800000    2.100000    2.900000    1.200000    0.600000    0.200000   \n",
       "75%      1.500000    3.300000    4.800000    2.500000    0.900000    0.500000   \n",
       "max      4.300000   10.400000   14.300000   10.100000    2.700000    3.700000   \n",
       "\n",
       "              TOV          PF         PTS  \n",
       "count  496.000000  496.000000  496.000000  \n",
       "mean     1.219556    1.986895    7.680847  \n",
       "std      0.812727    0.893167    5.775764  \n",
       "min      0.000000    0.000000    0.000000  \n",
       "25%      0.600000    1.300000    3.100000  \n",
       "50%      1.000000    2.050000    6.300000  \n",
       "75%      1.700000    2.600000   10.900000  \n",
       "max      4.000000    4.500000   29.700000  \n",
       "\n",
       "[8 rows x 26 columns]"
      ]
     },
     "execution_count": 7,
     "metadata": {},
     "output_type": "execute_result"
    }
   ],
   "source": [
    "Season_2000.describe()"
   ]
  },
  {
   "cell_type": "markdown",
   "id": "ee690687-1b25-40ff-b268-6b8a9fa6163f",
   "metadata": {},
   "source": [
    "OBS.:As colunas que aparecem  com o *.describe()* são colunas númericas, logo mais veremos as colunas categóricas."
   ]
  },
  {
   "cell_type": "markdown",
   "id": "acdf7025-f42d-46be-bc20-55667b177a4e",
   "metadata": {},
   "source": [
    "### Explorar dados categóricos"
   ]
  },
  {
   "cell_type": "code",
   "execution_count": 8,
   "id": "e29d1373-dccf-4d31-b563-ffafafb45701",
   "metadata": {},
   "outputs": [
    {
     "data": {
      "text/plain": [
       "Index(['Player', 'Pos', 'Age', 'Tm', 'G', 'GS', 'MP', 'FG', 'FGA', 'FG%', '3P',\n",
       "       '3PA', '3P%', '2P', '2PA', '2P%', 'eFG%', 'FT', 'FTA', 'FT%', 'ORB',\n",
       "       'DRB', 'TRB', 'AST', 'STL', 'BLK', 'TOV', 'PF', 'PTS'],\n",
       "      dtype='object')"
      ]
     },
     "execution_count": 8,
     "metadata": {},
     "output_type": "execute_result"
    }
   ],
   "source": [
    "Season_2000.columns[:]"
   ]
  },
  {
   "cell_type": "markdown",
   "id": "351522ba-7993-458e-a909-13a3df8f3995",
   "metadata": {},
   "source": [
    "> As colunas *Player , Pos e Team* são as únicas colunas categóricas.\n",
    "\n",
    "Vamos analisar em nossas 3 colunas categóricas:"
   ]
  },
  {
   "cell_type": "code",
   "execution_count": 9,
   "id": "493e219d-09f2-415e-9710-062987fc0fef",
   "metadata": {},
   "outputs": [
    {
     "data": {
      "text/plain": [
       "Player\n",
       "A.C. Green        1\n",
       "A.J. Bramlett     1\n",
       "Aaron McKie       1\n",
       "Aaron Williams    1\n",
       "Adam Keefe        1\n",
       "                 ..\n",
       "Wayne Turner      1\n",
       "Wesley Person     1\n",
       "Will Perdue       1\n",
       "William Avery     1\n",
       "Žan Tabak         1\n",
       "Length: 439, dtype: int64"
      ]
     },
     "execution_count": 9,
     "metadata": {},
     "output_type": "execute_result"
    }
   ],
   "source": [
    "# Player\n",
    "\n",
    "player_group_2000 = Season_2000.groupby(['Player']).size()\n",
    "player_group_2000"
   ]
  },
  {
   "cell_type": "code",
   "execution_count": 10,
   "id": "fd8691b1-970e-4a0a-8f37-3360f79ed050",
   "metadata": {},
   "outputs": [
    {
     "data": {
      "text/plain": [
       "(517, 29)"
      ]
     },
     "execution_count": 10,
     "metadata": {},
     "output_type": "execute_result"
    }
   ],
   "source": [
    "Season_2000.shape"
   ]
  },
  {
   "cell_type": "markdown",
   "id": "c1a7826c-5ff6-4a1d-9d13-bfb9eb3dd023",
   "metadata": {},
   "source": [
    "> Dada a diferença entre a quantidade filtrada 439 jogadores e a diferença de jogadores quando passamos o atributo 'shape' 517, 78 linhas a mais. Mas, sabemos também que em uma temporada um jogador pode trocar de time, por isso podem haver dados duplicados, o que é totalmente aceitável. Mas, será que há dados nulos? E duplicados?"
   ]
  },
  {
   "cell_type": "code",
   "execution_count": 11,
   "id": "39ea6b4b-d184-4907-9ece-328523b2c21c",
   "metadata": {},
   "outputs": [
    {
     "data": {
      "text/plain": [
       "Player     21\n",
       "Pos        21\n",
       "Age        21\n",
       "Tm         21\n",
       "G          21\n",
       "GS         21\n",
       "MP         21\n",
       "FG         21\n",
       "FGA        21\n",
       "FG%        23\n",
       "3P         21\n",
       "3PA        21\n",
       "3P%       122\n",
       "2P         21\n",
       "2PA        21\n",
       "2P%        24\n",
       "eFG%       23\n",
       "FT         21\n",
       "FTA        21\n",
       "FT%        45\n",
       "ORB        21\n",
       "DRB        21\n",
       "TRB        21\n",
       "AST        21\n",
       "STL        21\n",
       "BLK        21\n",
       "TOV        21\n",
       "PF         21\n",
       "PTS        21\n",
       "dtype: int64"
      ]
     },
     "execution_count": 11,
     "metadata": {},
     "output_type": "execute_result"
    }
   ],
   "source": [
    "# Dados nulos\n",
    "Season_2000.isnull().sum()"
   ]
  },
  {
   "cell_type": "code",
   "execution_count": 12,
   "id": "b31026c8-6e00-4bf6-8853-6741e6662b14",
   "metadata": {},
   "outputs": [
    {
     "data": {
      "text/plain": [
       "0      False\n",
       "1       True\n",
       "2       True\n",
       "3      False\n",
       "4      False\n",
       "       ...  \n",
       "512     True\n",
       "513     True\n",
       "514    False\n",
       "515    False\n",
       "516    False\n",
       "Name: Player, Length: 517, dtype: bool"
      ]
     },
     "execution_count": 12,
     "metadata": {},
     "output_type": "execute_result"
    }
   ],
   "source": [
    "# Dados duplicados\n",
    "Season_2000['Player'].duplicated()"
   ]
  },
  {
   "cell_type": "markdown",
   "id": "ae8594a5-0b56-453e-86b6-1e0168f936f8",
   "metadata": {},
   "source": [
    "## Limpeza de Dados - Colunas Categóricas\n",
    "\n",
    "> Nessa etapa faremos a limpeza de dados das 3 colunas categóricas: Player, Pos e Tm."
   ]
  },
  {
   "cell_type": "code",
   "execution_count": 13,
   "id": "062f65c1-20cb-4d99-bb52-299b17202c99",
   "metadata": {},
   "outputs": [],
   "source": [
    "# Verficar dados nulos das colunas categóricas\n",
    "missing_data = ['Player', 'Pos', 'Tm']\n",
    "Season_2000[missing_data] = Season_2000[missing_data].fillna('missing')"
   ]
  },
  {
   "cell_type": "code",
   "execution_count": 14,
   "id": "fcedad9d-4603-4b0c-b66c-bec50c226159",
   "metadata": {},
   "outputs": [
    {
     "data": {
      "text/plain": [
       "Player    0\n",
       "Pos       0\n",
       "Tm        0\n",
       "dtype: int64"
      ]
     },
     "execution_count": 14,
     "metadata": {},
     "output_type": "execute_result"
    }
   ],
   "source": [
    "Season_2000[missing_data].isnull().sum()"
   ]
  },
  {
   "cell_type": "code",
   "execution_count": 15,
   "id": "710a0329-eaef-4173-8caf-a85d8a3beb8e",
   "metadata": {},
   "outputs": [
    {
     "data": {
      "text/plain": [
       "Pos\n",
       "C           87\n",
       "PF         115\n",
       "PF-SF        1\n",
       "PG         106\n",
       "SF         101\n",
       "SF-PF        1\n",
       "SF-SG        1\n",
       "SG          84\n",
       "missing     21\n",
       "dtype: int64"
      ]
     },
     "execution_count": 15,
     "metadata": {},
     "output_type": "execute_result"
    }
   ],
   "source": [
    "pos_group = Season_2000.groupby(['Pos']).size()\n",
    "pos_group"
   ]
  },
  {
   "cell_type": "code",
   "execution_count": 16,
   "id": "d144e856-27b7-41fe-b714-65e93261f987",
   "metadata": {},
   "outputs": [
    {
     "data": {
      "text/plain": [
       "Text(0.5, 1.0, 'Position')"
      ]
     },
     "execution_count": 16,
     "metadata": {},
     "output_type": "execute_result"
    },
    {
     "data": {
      "image/png": "[encoded data removed]",
      "text/plain": [
       "<Figure size 432x288 with 1 Axes>"
      ]
     },
     "metadata": {
      "needs_background": "light"
     },
     "output_type": "display_data"
    }
   ],
   "source": [
    "pos_group.plot.bar(color = '#b790d4').set_title('Position')"
   ]
  },
  {
   "cell_type": "markdown",
   "id": "39931d39-2868-4ace-956c-2ed1530fadea",
   "metadata": {},
   "source": [
    "> Posições dos jogadores: *C* - center, *PF* - power foward, *PG* - point guard, *SG* - shooting guard, *SF* - small foward\n",
    "\n",
    "Abaixo vemos uma imagem que ilustra cada posição:"
   ]
  },
  {
   "cell_type": "code",
   "execution_count": 17,
   "id": "1af9325e-2388-4ba1-8769-345d2bb6849d",
   "metadata": {},
   "outputs": [
    {
     "data": {
      "image/png": "[encoded data removed]",
      "text/plain": [
       "<IPython.core.display.Image object>"
      ]
     },
     "execution_count": 17,
     "metadata": {},
     "output_type": "execute_result"
    }
   ],
   "source": [
    "from IPython.display import Image\n",
    "Image('Basketball_Positions.png')"
   ]
  },
  {
   "cell_type": "code",
   "execution_count": 18,
   "id": "0561e126-3b4f-4e8d-8a37-42be4ca8e3af",
   "metadata": {},
   "outputs": [
    {
     "name": "stdout",
     "output_type": "stream",
     "text": [
      "57 jogadores mudaram de time.\n"
     ]
    }
   ],
   "source": [
    "# Quantos jogadores mudaram de time?\n",
    "team_change = 517- 439 - 21 #517 linhas - 439 jogadores - 21 dados nulos\n",
    "print(team_change, 'jogadores mudaram de time.')"
   ]
  },
  {
   "cell_type": "code",
   "execution_count": 19,
   "id": "7be4e739-490a-453b-adc0-1b5ccd001023",
   "metadata": {},
   "outputs": [
    {
     "name": "stdout",
     "output_type": "stream",
     "text": [
      "Tm\n",
      "ATL        14\n",
      "BOS        15\n",
      "CHH        17\n",
      "CHI        20\n",
      "CLE        20\n",
      "DAL        17\n",
      "DEN        17\n",
      "DET        15\n",
      "GSW        23\n",
      "HOU        17\n",
      "IND        14\n",
      "LAC        17\n",
      "LAL        15\n",
      "MIA        16\n",
      "MIL        15\n",
      "MIN        13\n",
      "NJN        15\n",
      "NYK        16\n",
      "ORL        19\n",
      "PHI        18\n",
      "PHO        17\n",
      "POR        14\n",
      "SAC        14\n",
      "SAS        15\n",
      "SEA        15\n",
      "TOR        16\n",
      "TOT        28\n",
      "UTA        13\n",
      "VAN        15\n",
      "WAS        16\n",
      "missing    21\n",
      "dtype: int64\n"
     ]
    }
   ],
   "source": [
    "# Team\n",
    "team_group_2000 = Season_2000.groupby(['Tm']).size()\n",
    "print(team_group_2000)"
   ]
  },
  {
   "cell_type": "markdown",
   "id": "dda5c97d-4108-44ea-af1a-4ccd3513312e",
   "metadata": {},
   "source": [
    "> 496 jogadores."
   ]
  },
  {
   "cell_type": "code",
   "execution_count": 20,
   "id": "f573a658-9e2a-4061-88b5-5a229d6062c7",
   "metadata": {},
   "outputs": [
    {
     "data": {
      "text/plain": [
       "Text(0.5, 1.0, 'Team')"
      ]
     },
     "execution_count": 20,
     "metadata": {},
     "output_type": "execute_result"
    },
    {
     "data": {
      "image/png": "[encoded data removed]",
      "text/plain": [
       "<Figure size 432x288 with 1 Axes>"
      ]
     },
     "metadata": {
      "needs_background": "light"
     },
     "output_type": "display_data"
    }
   ],
   "source": [
    "team_group_2000.plot.bar(color = '#b790d4').set_title('Team')"
   ]
  },
  {
   "cell_type": "markdown",
   "id": "6c631932-2ac1-45aa-9be9-4136e6aa2352",
   "metadata": {},
   "source": [
    "> *'TOT'* é uma coluna que indica que o jogador jogou em várias equipes durante a temporada.   "
   ]
  },
  {
   "cell_type": "markdown",
   "id": "30864d3a-f6af-4bc5-998d-203a758ebc38",
   "metadata": {},
   "source": [
    "### Colunas Numéricas\n",
    "> Agora vamos para as colunas numéricas."
   ]
  },
  {
   "cell_type": "code",
   "execution_count": 21,
   "id": "a73486e9-d197-46e1-a7b2-8b5b1b2128e5",
   "metadata": {},
   "outputs": [
    {
     "data": {
      "text/plain": [
       "Index(['Player', 'Pos', 'Age', 'Tm', 'G', 'GS', 'MP', 'FG', 'FGA', 'FG%', '3P',\n",
       "       '3PA', '3P%', '2P', '2PA', '2P%', 'eFG%', 'FT', 'FTA', 'FT%', 'ORB',\n",
       "       'DRB', 'TRB', 'AST', 'STL', 'BLK', 'TOV', 'PF', 'PTS'],\n",
       "      dtype='object')"
      ]
     },
     "execution_count": 21,
     "metadata": {},
     "output_type": "execute_result"
    }
   ],
   "source": [
    "Season_2000.columns"
   ]
  },
  {
   "cell_type": "markdown",
   "id": "265e502f-a82c-46f2-bf0d-85c708021849",
   "metadata": {},
   "source": [
    "## Limpeza de Dados - Colunas Numéricas\n",
    "> Aqui mudaremos dados nulos para mediana, substituir por 0 afetaria significativamente esses dados, por exemplo idade mínima, quantidade de pontos, faltas e etc. \n",
    "Como depende muito do caso, e neste caso são dados estatísticos do desempenho de jogadores da NBA na temporada 2000, pensei em alterar para a mediana/média, porém teria um extenso trabalho de alterar os valores nulos de cada coluna numérica, interferindo nos dados de todo um dataset. Então decidi apagar os valores faltantes, assim teria o mínimo de interferência nos dados, nesse caso, acredito que tenha sido a melhor decisão, alterar para 'Missing' valores faltantes de colunas categóricas e excluir das colunas numéricas os valores faltantes. "
   ]
  },
  {
   "cell_type": "code",
   "execution_count": 22,
   "id": "b4a141ee-a16e-4a45-8ced-9e6886f8cfe4",
   "metadata": {},
   "outputs": [
    {
     "data": {
      "text/plain": [
       "count    496.000000\n",
       "mean      27.620968\n",
       "std        4.471400\n",
       "min       19.000000\n",
       "25%       24.000000\n",
       "50%       27.000000\n",
       "75%       31.000000\n",
       "max       39.000000\n",
       "Name: Age, dtype: float64"
      ]
     },
     "execution_count": 22,
     "metadata": {},
     "output_type": "execute_result"
    }
   ],
   "source": [
    "# importar a biblioteca de estatísticas\n",
    "import statistics as sts\n",
    "# Descobrir valor da média da coluna 'Age'\n",
    "Season_2000['Age'].describe()"
   ]
  },
  {
   "cell_type": "code",
   "execution_count": 23,
   "id": "19c29dbb-ba6a-4446-9e69-aa6a69e56080",
   "metadata": {},
   "outputs": [
    {
     "data": {
      "text/plain": [
       "Index(['Player', 'Pos', 'Age', 'Tm', 'G', 'GS', 'MP', 'FG', 'FGA', 'FG%', '3P',\n",
       "       '3PA', '3P%', '2P', '2PA', '2P%', 'eFG%', 'FT', 'FTA', 'FT%', 'ORB',\n",
       "       'DRB', 'TRB', 'AST', 'STL', 'BLK', 'TOV', 'PF', 'PTS'],\n",
       "      dtype='object')"
      ]
     },
     "execution_count": 23,
     "metadata": {},
     "output_type": "execute_result"
    }
   ],
   "source": [
    "Season_2000.columns"
   ]
  },
  {
   "cell_type": "code",
   "execution_count": 24,
   "id": "824829be-6d03-4843-bbc7-1e7f1825a5fa",
   "metadata": {},
   "outputs": [
    {
     "data": {
      "text/plain": [
       "Player      0\n",
       "Pos         0\n",
       "Age        21\n",
       "Tm          0\n",
       "G          21\n",
       "GS         21\n",
       "MP         21\n",
       "FG         21\n",
       "FGA        21\n",
       "FG%        23\n",
       "3P         21\n",
       "3PA        21\n",
       "3P%       122\n",
       "2P         21\n",
       "2PA        21\n",
       "2P%        24\n",
       "eFG%       23\n",
       "FT         21\n",
       "FTA        21\n",
       "FT%        45\n",
       "ORB        21\n",
       "DRB        21\n",
       "TRB        21\n",
       "AST        21\n",
       "STL        21\n",
       "BLK        21\n",
       "TOV        21\n",
       "PF         21\n",
       "PTS        21\n",
       "dtype: int64"
      ]
     },
     "execution_count": 24,
     "metadata": {},
     "output_type": "execute_result"
    }
   ],
   "source": [
    "# valores nulos:\n",
    "Season_2000.isnull().sum()"
   ]
  },
  {
   "cell_type": "code",
   "execution_count": 25,
   "id": "9078563e-12a1-40da-9b94-f6afc0ed507d",
   "metadata": {},
   "outputs": [],
   "source": [
    "# Excluir Valores Nulos\n",
    "Season_2000.dropna(subset=['Age', 'G', 'GS', 'MP', 'FG', 'FGA', 'FG%', '3P',\n",
    "       '3PA', '3P%', '2P', '2PA', '2P%', 'eFG%', 'FT', 'FTA', 'FT%', 'ORB',\n",
    "       'DRB', 'TRB', 'AST', 'STL', 'BLK', 'TOV', 'PF', 'PTS'], inplace = True)"
   ]
  },
  {
   "cell_type": "code",
   "execution_count": 26,
   "id": "a47192c2-1551-4de8-a897-6f92825870d8",
   "metadata": {},
   "outputs": [
    {
     "data": {
      "text/plain": [
       "Player    0\n",
       "Pos       0\n",
       "Age       0\n",
       "Tm        0\n",
       "G         0\n",
       "GS        0\n",
       "MP        0\n",
       "FG        0\n",
       "FGA       0\n",
       "FG%       0\n",
       "3P        0\n",
       "3PA       0\n",
       "3P%       0\n",
       "2P        0\n",
       "2PA       0\n",
       "2P%       0\n",
       "eFG%      0\n",
       "FT        0\n",
       "FTA       0\n",
       "FT%       0\n",
       "ORB       0\n",
       "DRB       0\n",
       "TRB       0\n",
       "AST       0\n",
       "STL       0\n",
       "BLK       0\n",
       "TOV       0\n",
       "PF        0\n",
       "PTS       0\n",
       "dtype: int64"
      ]
     },
     "execution_count": 26,
     "metadata": {},
     "output_type": "execute_result"
    }
   ],
   "source": [
    "Season_2000.isnull().sum()"
   ]
  },
  {
   "cell_type": "markdown",
   "id": "433106f5-ec57-4d95-a7b4-24c5fd8e47a9",
   "metadata": {},
   "source": [
    "OBS.: Algumas colunas tem nomes iniciados com números, o que não é aceitável na sintaxe Python (variáveis iniciadas com números), por essa razão modificaremos as duas colunas que possuem nomes iniciados com números, '2P' e '3P'(as que iremos analisar). E excluíremos as que não utilizaremos."
   ]
  },
  {
   "cell_type": "code",
   "execution_count": 27,
   "id": "4af64cfc-34a3-4ffd-ba59-83b652e8a492",
   "metadata": {},
   "outputs": [],
   "source": [
    "# Renomeando colunas:\n",
    "Season_2000 = Season_2000.rename(columns={'2P': 'Two_Pts'})\n",
    "Season_2000 = Season_2000.rename(columns={'3P': 'Three_Pts'})"
   ]
  },
  {
   "cell_type": "code",
   "execution_count": 28,
   "id": "a3854b8f-d1d2-465a-9fbb-778281d94a3f",
   "metadata": {},
   "outputs": [],
   "source": [
    "# Excluir colunas FGA, FG%, 3PA, 3P%, 2PA, 2P%, eFG%, FTA, FT%\n",
    "Season_2000 = Season_2000.drop(['FGA','FG%','3PA','3P%','2PA','2P%','eFG%','FTA', 'FT%'], axis=1)"
   ]
  },
  {
   "cell_type": "code",
   "execution_count": 29,
   "id": "079d1f53-d16f-4547-9b6b-6085b14a5d9d",
   "metadata": {},
   "outputs": [
    {
     "data": {
      "text/plain": [
       "Index(['Player', 'Pos', 'Age', 'Tm', 'G', 'GS', 'MP', 'FG', 'Three_Pts',\n",
       "       'Two_Pts', 'FT', 'ORB', 'DRB', 'TRB', 'AST', 'STL', 'BLK', 'TOV', 'PF',\n",
       "       'PTS'],\n",
       "      dtype='object')"
      ]
     },
     "execution_count": 29,
     "metadata": {},
     "output_type": "execute_result"
    }
   ],
   "source": [
    "Season_2000.columns"
   ]
  },
  {
   "cell_type": "markdown",
   "id": "9a42fc2c-77af-4e1c-99d8-9a79422e4428",
   "metadata": {},
   "source": [
    "### Estatísticas Descritivas Básicas\n",
    "> Vejamos algumas estatísticas importantes como: média, desvio padrão e intervalos."
   ]
  },
  {
   "cell_type": "code",
   "execution_count": 30,
   "id": "8b5dff3d-8db2-4e97-bfe3-e8af6ab08e5b",
   "metadata": {},
   "outputs": [
    {
     "data": {
      "text/plain": [
       "count    388.000000\n",
       "mean      27.688144\n",
       "std        4.482312\n",
       "min       19.000000\n",
       "25%       24.000000\n",
       "50%       27.000000\n",
       "75%       31.000000\n",
       "max       39.000000\n",
       "Name: Age, dtype: float64"
      ]
     },
     "execution_count": 30,
     "metadata": {},
     "output_type": "execute_result"
    }
   ],
   "source": [
    "# Coluna Age\n",
    "Season_2000['Age'].describe()"
   ]
  },
  {
   "cell_type": "markdown",
   "id": "a4933795-1974-4ead-8e2a-ae165cf44ef7",
   "metadata": {},
   "source": [
    "> Quantidade de linhas = 388; Média =~ 27.7; Desvio Padrão =~ 4.5;\n",
    "Qual a idade do jogador mais jovem da temporada 2000? 19\n",
    "Qual idade do jogador mais velho? 39"
   ]
  },
  {
   "cell_type": "code",
   "execution_count": 31,
   "id": "8f3b9ca5-9717-4f8e-ac4f-2b2dea72e2c4",
   "metadata": {},
   "outputs": [
    {
     "name": "stderr",
     "output_type": "stream",
     "text": [
      "C:\\Users\\user\\Anaconda3\\lib\\site-packages\\seaborn\\distributions.py:2619: FutureWarning: `distplot` is a deprecated function and will be removed in a future version. Please adapt your code to use either `displot` (a figure-level function with similar flexibility) or `histplot` (an axes-level function for histograms).\n",
      "  warnings.warn(msg, FutureWarning)\n"
     ]
    },
    {
     "data": {
      "text/plain": [
       "Text(0.5, 1.0, 'Age of Players')"
      ]
     },
     "execution_count": 31,
     "metadata": {},
     "output_type": "execute_result"
    },
    {
     "data": {
      "image/png": "[encoded data removed]",
      "text/plain": [
       "<Figure size 432x288 with 1 Axes>"
      ]
     },
     "metadata": {
      "needs_background": "light"
     },
     "output_type": "display_data"
    }
   ],
   "source": [
    "# Histograma\n",
    "\n",
    "sbn.distplot(Season_2000['Age'], color = '#c65102').set_title('Age of Players')"
   ]
  },
  {
   "cell_type": "code",
   "execution_count": 32,
   "id": "13ea200f-550e-4855-a8f6-d99ffe3bc855",
   "metadata": {},
   "outputs": [
    {
     "name": "stderr",
     "output_type": "stream",
     "text": [
      "C:\\Users\\user\\Anaconda3\\lib\\site-packages\\seaborn\\_decorators.py:36: FutureWarning: Pass the following variable as a keyword arg: x. From version 0.12, the only valid positional argument will be `data`, and passing other arguments without an explicit keyword will result in an error or misinterpretation.\n",
      "  warnings.warn(\n"
     ]
    },
    {
     "data": {
      "text/plain": [
       "Text(0.5, 1.0, 'Age')"
      ]
     },
     "execution_count": 32,
     "metadata": {},
     "output_type": "execute_result"
    },
    {
     "data": {
      "image/png": "[encoded data removed]",
      "text/plain": [
       "<Figure size 432x288 with 1 Axes>"
      ]
     },
     "metadata": {
      "needs_background": "light"
     },
     "output_type": "display_data"
    }
   ],
   "source": [
    "# Boxplot\n",
    "sbn.boxplot(Season_2000['Age'], color = '#b790d4').set_title('Age')"
   ]
  },
  {
   "cell_type": "code",
   "execution_count": 33,
   "id": "a285dba5-e39a-4b94-bd34-03bc64a3a6e6",
   "metadata": {},
   "outputs": [
    {
     "data": {
      "text/plain": [
       "count    388.000000\n",
       "mean      57.301546\n",
       "std       24.071369\n",
       "min        1.000000\n",
       "25%       39.500000\n",
       "50%       65.500000\n",
       "75%       79.000000\n",
       "max       85.000000\n",
       "Name: G, dtype: float64"
      ]
     },
     "execution_count": 33,
     "metadata": {},
     "output_type": "execute_result"
    }
   ],
   "source": [
    "# Coluna 'G' - Game\n",
    "Season_2000['G'].describe()"
   ]
  },
  {
   "cell_type": "code",
   "execution_count": 34,
   "id": "d11c1dc6-15b8-4f31-bcf1-883a32ca2cd1",
   "metadata": {},
   "outputs": [
    {
     "name": "stderr",
     "output_type": "stream",
     "text": [
      "C:\\Users\\user\\Anaconda3\\lib\\site-packages\\seaborn\\distributions.py:2619: FutureWarning: `distplot` is a deprecated function and will be removed in a future version. Please adapt your code to use either `displot` (a figure-level function with similar flexibility) or `histplot` (an axes-level function for histograms).\n",
      "  warnings.warn(msg, FutureWarning)\n"
     ]
    },
    {
     "data": {
      "text/plain": [
       "Text(0.5, 1.0, 'Games')"
      ]
     },
     "execution_count": 34,
     "metadata": {},
     "output_type": "execute_result"
    },
    {
     "data": {
      "image/png": "[encoded data removed]",
      "text/plain": [
       "<Figure size 432x288 with 1 Axes>"
      ]
     },
     "metadata": {
      "needs_background": "light"
     },
     "output_type": "display_data"
    }
   ],
   "source": [
    "# Histograma\n",
    "sbn.distplot(Season_2000['G'], color = '#c65102').set_title('Games')"
   ]
  },
  {
   "cell_type": "code",
   "execution_count": 35,
   "id": "12f3de0f-a062-47ca-a069-5be2372c96a7",
   "metadata": {},
   "outputs": [
    {
     "name": "stderr",
     "output_type": "stream",
     "text": [
      "C:\\Users\\user\\Anaconda3\\lib\\site-packages\\seaborn\\_decorators.py:36: FutureWarning: Pass the following variable as a keyword arg: x. From version 0.12, the only valid positional argument will be `data`, and passing other arguments without an explicit keyword will result in an error or misinterpretation.\n",
      "  warnings.warn(\n"
     ]
    },
    {
     "data": {
      "text/plain": [
       "Text(0.5, 1.0, 'Games')"
      ]
     },
     "execution_count": 35,
     "metadata": {},
     "output_type": "execute_result"
    },
    {
     "data": {
      "image/png": "[encoded data removed]",
      "text/plain": [
       "<Figure size 432x288 with 1 Axes>"
      ]
     },
     "metadata": {
      "needs_background": "light"
     },
     "output_type": "display_data"
    }
   ],
   "source": [
    "# Boxplot\n",
    "sbn.boxplot(Season_2000['G'], color = '#b790d4').set_title('Games')"
   ]
  },
  {
   "cell_type": "code",
   "execution_count": 36,
   "id": "f8a11237-40fd-4e4c-ade7-090210df475a",
   "metadata": {},
   "outputs": [
    {
     "data": {
      "text/plain": [
       "count    388.000000\n",
       "mean      28.538660\n",
       "std       31.749603\n",
       "min        0.000000\n",
       "25%        1.000000\n",
       "50%       11.000000\n",
       "75%       63.250000\n",
       "max       82.000000\n",
       "Name: GS, dtype: float64"
      ]
     },
     "execution_count": 36,
     "metadata": {},
     "output_type": "execute_result"
    }
   ],
   "source": [
    "# Coluna GS - Games Started\n",
    "Season_2000['GS'].describe()"
   ]
  },
  {
   "cell_type": "code",
   "execution_count": 37,
   "id": "0a12a251-b67c-4e58-b880-ec32b5d2e682",
   "metadata": {},
   "outputs": [
    {
     "name": "stdout",
     "output_type": "stream",
     "text": [
      "                  Player Pos   Age   Tm     G    GS    MP   FG  Three_Pts  \\\n",
      "3    Shareef Abdur-Rahim  SF  23.0  VAN  82.0  82.0  39.3  7.2        0.4   \n",
      "5             Ray Allen*  SG  24.0  MIL  82.0  82.0  37.4  7.8        2.1   \n",
      "9         Kenny Anderson  PG  29.0  BOS  82.0  82.0  31.6  5.3        1.0   \n",
      "11      Shandon Anderson  SF  26.0  HOU  82.0  82.0  32.9  4.5        1.0   \n",
      "15     Darrell Armstrong  PG  31.0  ORL  82.0  82.0  31.6  5.9        1.7   \n",
      "..                   ...  ..   ...  ...   ...   ...   ...  ...        ...   \n",
      "476       Keith Van Horn  PF  24.0  NJN  80.0  80.0  34.8  7.0        1.1   \n",
      "480       Antoine Walker  PF  23.0  BOS  82.0  82.0  36.6  7.9        0.9   \n",
      "484      Rasheed Wallace  PF  25.0  POR  81.0  77.0  35.1  6.7        0.1   \n",
      "491         David Wesley  PG  29.0  CHH  82.0  82.0  33.7  5.0        1.1   \n",
      "500       Jason Williams  PG  24.0  SAC  81.0  81.0  34.1  4.5        1.8   \n",
      "\n",
      "     Two_Pts   FT  ORB  DRB   TRB  AST  STL  BLK  TOV   PF   PTS  \n",
      "3        6.9  5.4  2.7  7.4  10.1  3.3  1.1  1.1  3.0  3.0  20.3  \n",
      "5        5.7  4.3  1.0  3.4   4.4  3.8  1.3  0.2  2.2  2.3  22.1  \n",
      "9        4.3  2.4  0.7  2.1   2.7  5.1  1.7  0.1  1.6  2.8  14.0  \n",
      "11       3.5  2.4  1.1  3.6   4.7  2.9  1.2  0.4  2.4  2.2  12.3  \n",
      "15       4.2  2.7  0.8  2.5   3.3  6.1  2.1  0.1  3.0  1.7  16.2  \n",
      "..       ...  ...  ...  ...   ...  ...  ...  ...  ...  ...   ...  \n",
      "476      5.9  4.2  2.5  6.0   8.5  2.0  0.8  0.8  3.1  3.2  19.2  \n",
      "480      7.0  3.8  2.4  5.5   8.0  3.7  1.4  0.4  3.2  3.2  20.5  \n",
      "484      6.6  2.9  1.6  5.4   7.0  1.8  1.1  1.3  1.9  2.7  16.4  \n",
      "491      3.9  2.6  0.5  2.3   2.7  5.6  1.3  0.1  1.9  2.3  13.6  \n",
      "500      2.7  1.6  0.3  2.6   2.8  7.3  1.4  0.1  3.7  1.7  12.3  \n",
      "\n",
      "[63 rows x 20 columns]\n"
     ]
    }
   ],
   "source": [
    "# filtrando o dataframe para selecionar os jogadores que mais jogaram, ou seja, mais de 75 jogos:\n",
    "tops_games = Season_2000.query('GS > 75')\n",
    "print(tops_games)"
   ]
  },
  {
   "cell_type": "code",
   "execution_count": 38,
   "id": "00b19c62-907f-4516-81a8-eb1f9d1ec336",
   "metadata": {},
   "outputs": [
    {
     "name": "stderr",
     "output_type": "stream",
     "text": [
      "C:\\Users\\user\\Anaconda3\\lib\\site-packages\\seaborn\\distributions.py:2619: FutureWarning: `distplot` is a deprecated function and will be removed in a future version. Please adapt your code to use either `displot` (a figure-level function with similar flexibility) or `histplot` (an axes-level function for histograms).\n",
      "  warnings.warn(msg, FutureWarning)\n"
     ]
    },
    {
     "data": {
      "text/plain": [
       "Text(0.5, 1.0, 'Games Started')"
      ]
     },
     "execution_count": 38,
     "metadata": {},
     "output_type": "execute_result"
    },
    {
     "data": {
      "image/png": "[encoded data removed]",
      "text/plain": [
       "<Figure size 432x288 with 1 Axes>"
      ]
     },
     "metadata": {
      "needs_background": "light"
     },
     "output_type": "display_data"
    }
   ],
   "source": [
    "# Histograma\n",
    "sbn.distplot(Season_2000['GS'], color = '#c65102').set_title('Games Started')"
   ]
  },
  {
   "cell_type": "code",
   "execution_count": 39,
   "id": "efadf432-b76c-40eb-95c3-2712534ba4f0",
   "metadata": {},
   "outputs": [
    {
     "name": "stderr",
     "output_type": "stream",
     "text": [
      "C:\\Users\\user\\Anaconda3\\lib\\site-packages\\seaborn\\_decorators.py:36: FutureWarning: Pass the following variable as a keyword arg: x. From version 0.12, the only valid positional argument will be `data`, and passing other arguments without an explicit keyword will result in an error or misinterpretation.\n",
      "  warnings.warn(\n"
     ]
    },
    {
     "data": {
      "text/plain": [
       "Text(0.5, 1.0, 'Games Started')"
      ]
     },
     "execution_count": 39,
     "metadata": {},
     "output_type": "execute_result"
    },
    {
     "data": {
      "image/png": "[encoded data removed]",
      "text/plain": [
       "<Figure size 432x288 with 1 Axes>"
      ]
     },
     "metadata": {
      "needs_background": "light"
     },
     "output_type": "display_data"
    }
   ],
   "source": [
    "# Boxplot\n",
    "sbn.boxplot(Season_2000['GS'], color = '#b790d4').set_title('Games Started')"
   ]
  },
  {
   "cell_type": "code",
   "execution_count": 40,
   "id": "75180cdf-cd25-4aa7-bbbf-462e33a20762",
   "metadata": {},
   "outputs": [
    {
     "data": {
      "text/plain": [
       "count    388.000000\n",
       "mean      22.259536\n",
       "std        9.610236\n",
       "min        2.400000\n",
       "25%       14.350000\n",
       "50%       21.550000\n",
       "75%       30.650000\n",
       "max       42.200000\n",
       "Name: MP, dtype: float64"
      ]
     },
     "execution_count": 40,
     "metadata": {},
     "output_type": "execute_result"
    }
   ],
   "source": [
    "# MP - Minutes Played Per Game\n",
    "Season_2000['MP'].describe()"
   ]
  },
  {
   "cell_type": "code",
   "execution_count": 41,
   "id": "48f61ae2-ce35-4b7a-9be8-23cfe60aa497",
   "metadata": {},
   "outputs": [
    {
     "name": "stdout",
     "output_type": "stream",
     "text": [
      "                  Player Pos   Age   Tm     G    GS    MP    FG  Three_Pts  \\\n",
      "3    Shareef Abdur-Rahim  SF  23.0  VAN  82.0  82.0  39.3   7.2        0.4   \n",
      "5             Ray Allen*  SG  24.0  MIL  82.0  82.0  37.4   7.8        2.1   \n",
      "23             Vin Baker   C  28.0  SEA  79.0  75.0  36.1   6.5        0.0   \n",
      "37            Mike Bibby  PG  21.0  VAN  82.0  82.0  38.5   5.6        0.9   \n",
      "59           Elton Brand  PF  20.0  CHI  81.0  80.0  37.0   7.8        0.0   \n",
      "60       Terrell Brandon  PG  29.0  MIN  71.0  71.0  36.4   6.8        0.7   \n",
      "69          Kobe Bryant*  SG  21.0  LAL  66.0  62.0  38.2   8.4        0.7   \n",
      "86          Vince Carter  SF  23.0  TOR  82.0  82.0  38.1   9.6        1.2   \n",
      "87           Sam Cassell  PG  30.0  MIL  81.0  81.0  35.8   6.7        0.3   \n",
      "136    Michael Dickerson  SG  24.0  VAN  82.0  82.0  37.8   6.8        1.5   \n",
      "142          Tim Duncan*  PF  23.0  SAS  74.0  74.0  38.9   8.5        0.0   \n",
      "158       Michael Finley  SF  26.0  DAL  82.0  82.0  42.2   9.1        1.2   \n",
      "165        Steve Francis  PG  22.0  HOU  77.0  77.0  36.1   6.5        1.4   \n",
      "168       Kevin Garnett*  PF  23.0  MIN  81.0  81.0  40.0   9.4        0.4   \n",
      "183         Horace Grant  PF  34.0  SEA  76.0  76.0  35.4   3.5        0.0   \n",
      "193    Anfernee Hardaway  SG  28.0  PHO  60.0  60.0  37.6   6.3        0.6   \n",
      "209          Grant Hill*  SF  27.0  DET  74.0  74.0  37.5   9.4        0.5   \n",
      "216        Allan Houston  SG  28.0  NYK  82.0  82.0  38.6   7.5        1.3   \n",
      "217         Juwan Howard  PF  26.0  WAS  82.0  82.0  35.5   6.2        0.0   \n",
      "221         Larry Hughes  SG  21.0  GSW  32.0  32.0  40.8   8.3        0.6   \n",
      "223       Lindsey Hunter  PG  29.0  DET  82.0  82.0  35.6   4.6        2.0   \n",
      "224       Allen Iverson*  SG  24.0  PHI  70.0  70.0  40.8  10.4        1.3   \n",
      "235       Antawn Jamison  SF  23.0  GSW  43.0  41.0  36.2   8.3        0.0   \n",
      "250          Eddie Jones  SG  28.0  CHH  72.0  72.0  39.0   6.6        1.8   \n",
      "261          Jason Kidd*  PG  26.0  PHO  67.0  67.0  39.0   5.2        0.8   \n",
      "269          Toni Kukoč*  SF  31.0  CHI  24.0  23.0  36.2   6.2        0.8   \n",
      "295         Karl Malone*  PF  36.0  UTA  82.0  82.0  35.9   9.2        0.0   \n",
      "298      Stephon Marbury  PG  22.0  NJN  74.0  74.0  38.9   7.7        0.9   \n",
      "304       Jamal Mashburn  SF  27.0  MIA  76.0  76.0  37.2   6.8        1.5   \n",
      "305        Anthony Mason  SF  33.0  CHH  82.0  81.0  38.2   3.9        0.0   \n",
      "320           Ron Mercer  SG  23.0  DEN  37.0  37.0  38.1   7.4        0.4   \n",
      "326       Reggie Miller*  SG  34.0  IND  81.0  81.0  36.9   5.8        2.0   \n",
      "348        Dirk Nowitzki  PF  21.0  DAL  82.0  81.0  35.8   6.3        1.4   \n",
      "350    Shaquille O'Neal*   C  27.0  LAL  79.0  79.0  40.0  12.1        0.0   \n",
      "352           Lamar Odom  SF  20.0  LAC  76.0  70.0  36.4   5.9        0.8   \n",
      "370         Gary Payton*  PG  31.0  SEA  82.0  82.0  41.8   9.1        2.2   \n",
      "379         Paul Pierce*  SF  22.0  BOS  73.0  72.0  35.4   6.7        1.3   \n",
      "405    Clifford Robinson  SF  33.0  PHO  80.0  67.0  35.5   6.6        1.5   \n",
      "408       Glenn Robinson  SF  27.0  MIL  81.0  81.0  35.9   8.5        1.1   \n",
      "414           Jalen Rose  SF  27.0  IND  80.0  80.0  37.2   7.0        1.0   \n",
      "417        Bryon Russell  SF  29.0  UTA  82.0  70.0  35.4   5.0        1.3   \n",
      "433     Latrell Sprewell  SF  29.0  NYK  82.0  82.0  40.0   6.9        0.5   \n",
      "435     Jerry Stackhouse  SG  25.0  DET  82.0  82.0  38.4   7.5        1.0   \n",
      "458       Maurice Taylor  PF  23.0  LAC  62.0  60.0  35.9   7.4        0.0   \n",
      "475        Nick Van Exel  PG  28.0  DEN  79.0  79.0  37.3   6.0        1.7   \n",
      "480       Antoine Walker  PF  23.0  BOS  82.0  82.0  36.6   7.9        0.9   \n",
      "484      Rasheed Wallace  PF  25.0  POR  81.0  77.0  35.1   6.7        0.1   \n",
      "488        Chris Webber*  PF  26.0  SAC  75.0  75.0  38.4  10.0        0.4   \n",
      "\n",
      "     Two_Pts   FT  ORB  DRB   TRB   AST  STL  BLK  TOV   PF   PTS  \n",
      "3        6.9  5.4  2.7  7.4  10.1   3.3  1.1  1.1  3.0  3.0  20.3  \n",
      "5        5.7  4.3  1.0  3.4   4.4   3.8  1.3  0.2  2.2  2.3  22.1  \n",
      "23       6.5  3.6  2.9  4.8   7.7   1.9  0.6  0.8  2.7  3.6  16.6  \n",
      "37       4.7  2.4  0.9  2.8   3.7   8.1  1.6  0.2  3.0  2.1  14.5  \n",
      "59       7.8  4.5  4.3  5.7  10.0   1.9  0.8  1.6  2.8  3.2  20.1  \n",
      "60       6.1  2.6  0.6  2.7   3.4   8.9  1.9  0.4  2.6  2.2  17.1  \n",
      "69       7.7  5.0  1.6  4.7   6.3   4.9  1.6  0.9  2.8  3.3  22.5  \n",
      "86       8.5  5.3  1.8  4.0   5.8   3.9  1.3  1.1  2.2  3.2  25.7  \n",
      "87       6.4  4.8  0.9  2.9   3.7   9.0  1.3  0.1  3.3  3.1  18.6  \n",
      "136      5.3  3.3  1.0  2.5   3.4   2.5  1.4  0.5  2.0  2.8  18.2  \n",
      "142      8.5  6.2  3.5  8.9  12.4   3.2  0.9  2.2  3.3  2.8  23.2  \n",
      "158      7.9  3.2  1.5  4.8   6.3   5.3  1.3  0.4  2.4  2.1  22.6  \n",
      "165      5.1  3.7  2.0  3.3   5.3   6.6  1.5  0.4  4.0  3.0  18.0  \n",
      "168      9.0  3.8  2.8  9.0  11.8   5.0  1.5  1.6  3.3  2.5  22.9  \n",
      "183      3.5  1.1  2.2  5.6   7.8   2.5  0.7  0.8  0.8  2.5   8.1  \n",
      "193      5.8  3.8  1.5  4.3   5.8   5.3  1.6  0.6  2.6  2.7  16.9  \n",
      "209      8.9  6.5  1.3  5.3   6.6   5.2  1.4  0.6  3.2  2.6  25.8  \n",
      "216      6.2  3.4  0.5  2.8   3.3   2.7  0.8  0.2  2.3  2.7  19.7  \n",
      "217      6.2  2.5  1.6  4.1   5.7   3.0  0.8  0.3  2.7  3.6  14.9  \n",
      "221      7.8  5.4  1.9  4.0   5.9   4.1  1.9  0.5  3.1  3.0  22.7  \n",
      "223      2.6  1.4  0.4  2.6   3.0   4.0  1.6  0.3  1.8  2.6  12.7  \n",
      "224      9.1  6.3  1.0  2.8   3.8   4.7  2.1  0.1  3.3  2.3  28.4  \n",
      "235      8.2  3.0  4.0  4.3   8.3   2.1  0.7  0.3  2.6  2.7  19.6  \n",
      "250      4.9  5.0  1.1  3.6   4.8   4.2  2.7  0.7  2.2  2.4  20.1  \n",
      "261      4.4  3.0  1.4  5.8   7.2  10.1  2.0  0.4  3.4  2.2  14.3  \n",
      "269      5.4  4.9  1.5  3.9   5.4   5.2  1.8  0.8  3.1  2.1  18.0  \n",
      "295      9.1  7.2  2.1  7.4   9.5   3.7  1.0  0.9  2.8  2.8  25.5  \n",
      "298      6.8  5.9  0.8  2.4   3.2   8.4  1.5  0.2  3.6  2.6  22.2  \n",
      "304      5.3  2.4  0.8  4.2   5.0   3.9  1.0  0.2  2.4  2.8  17.5  \n",
      "305      3.9  3.8  1.8  6.8   8.5   4.5  0.9  0.4  2.0  2.7  11.6  \n",
      "320      6.9  3.2  0.8  3.3   4.1   2.8  0.9  0.4  2.4  2.0  18.3  \n",
      "326      3.7  4.6  0.6  2.3   3.0   2.3  1.0  0.3  1.6  1.6  18.1  \n",
      "348      4.9  3.5  1.2  5.2   6.5   2.5  0.8  0.8  1.7  3.1  17.5  \n",
      "350     12.1  5.5  4.3  9.4  13.6   3.8  0.5  3.0  2.8  3.2  29.7  \n",
      "352      5.1  4.0  2.1  5.7   7.8   4.2  1.2  1.3  3.4  3.8  16.6  \n",
      "370      7.0  3.8  1.2  5.2   6.5   8.9  1.9  0.2  2.7  2.2  24.2  \n",
      "379      5.3  4.9  1.1  4.3   5.4   3.0  2.1  0.8  2.4  3.2  19.5  \n",
      "405      5.1  3.7  1.3  3.2   4.5   2.8  1.1  0.8  2.1  3.0  18.5  \n",
      "408      7.5  2.8  1.3  4.7   6.0   2.4  1.0  0.5  2.8  2.6  20.9  \n",
      "414      6.1  3.2  0.5  4.3   4.8   4.0  1.1  0.6  2.4  2.9  18.2  \n",
      "417      3.7  2.9  1.2  4.0   5.2   1.9  1.6  0.3  1.2  3.1  14.1  \n",
      "433      6.4  4.2  0.6  3.7   4.3   4.0  1.3  0.3  2.8  2.2  18.6  \n",
      "435      6.5  7.5  1.4  2.4   3.8   4.5  1.3  0.4  3.8  2.3  23.6  \n",
      "458      7.4  2.3  1.5  4.9   6.5   1.6  0.8  0.8  2.7  3.5  17.1  \n",
      "475      4.3  2.5  0.4  3.5   3.9   9.0  0.9  0.1  2.8  1.9  16.1  \n",
      "480      7.0  3.8  2.4  5.5   8.0   3.7  1.4  0.4  3.2  3.2  20.5  \n",
      "484      6.6  2.9  1.6  5.4   7.0   1.8  1.1  1.3  1.9  2.7  16.4  \n",
      "488      9.6  4.1  2.5  8.0  10.5   4.6  1.6  1.7  2.9  3.5  24.5  \n"
     ]
    }
   ],
   "source": [
    "# filtrando o dataframe para selecionar os jogadores que jogaram mais minutos, ou seja, mais de 35 minutos por jogo:\n",
    "tops_minutes = Season_2000.query('MP > 35')\n",
    "print(tops_minutes)"
   ]
  },
  {
   "cell_type": "code",
   "execution_count": 42,
   "id": "410800f3-f371-42e3-9aad-b7a431a98015",
   "metadata": {},
   "outputs": [
    {
     "name": "stderr",
     "output_type": "stream",
     "text": [
      "C:\\Users\\user\\Anaconda3\\lib\\site-packages\\seaborn\\distributions.py:2619: FutureWarning: `distplot` is a deprecated function and will be removed in a future version. Please adapt your code to use either `displot` (a figure-level function with similar flexibility) or `histplot` (an axes-level function for histograms).\n",
      "  warnings.warn(msg, FutureWarning)\n"
     ]
    },
    {
     "data": {
      "text/plain": [
       "Text(0.5, 1.0, 'Minutes Played Per Game')"
      ]
     },
     "execution_count": 42,
     "metadata": {},
     "output_type": "execute_result"
    },
    {
     "data": {
      "image/png": "[encoded data removed]",
      "text/plain": [
       "<Figure size 432x288 with 1 Axes>"
      ]
     },
     "metadata": {
      "needs_background": "light"
     },
     "output_type": "display_data"
    }
   ],
   "source": [
    "# Histograma\n",
    "sbn.distplot(Season_2000['MP'], color = '#c65102').set_title('Minutes Played Per Game')"
   ]
  },
  {
   "cell_type": "code",
   "execution_count": 43,
   "id": "0f27091f-f7e7-4e8a-9ae7-b6552afe3001",
   "metadata": {},
   "outputs": [
    {
     "name": "stderr",
     "output_type": "stream",
     "text": [
      "C:\\Users\\user\\Anaconda3\\lib\\site-packages\\seaborn\\_decorators.py:36: FutureWarning: Pass the following variable as a keyword arg: x. From version 0.12, the only valid positional argument will be `data`, and passing other arguments without an explicit keyword will result in an error or misinterpretation.\n",
      "  warnings.warn(\n"
     ]
    },
    {
     "data": {
      "text/plain": [
       "Text(0.5, 1.0, 'Minutes Played Per Game')"
      ]
     },
     "execution_count": 43,
     "metadata": {},
     "output_type": "execute_result"
    },
    {
     "data": {
      "image/png": "[encoded data removed]",
      "text/plain": [
       "<Figure size 432x288 with 1 Axes>"
      ]
     },
     "metadata": {
      "needs_background": "light"
     },
     "output_type": "display_data"
    }
   ],
   "source": [
    "# Boxplot\n",
    "sbn.boxplot(Season_2000['MP'], color = '#b790d4').set_title('Minutes Played Per Game')"
   ]
  },
  {
   "cell_type": "code",
   "execution_count": 44,
   "id": "bd4d1810-eec1-4a8c-95bf-1abfae7ee5ce",
   "metadata": {},
   "outputs": [
    {
     "data": {
      "text/plain": [
       "count    388.000000\n",
       "mean       3.374485\n",
       "std        2.171032\n",
       "min        0.100000\n",
       "25%        1.700000\n",
       "50%        2.700000\n",
       "75%        4.700000\n",
       "max       12.100000\n",
       "Name: FG, dtype: float64"
      ]
     },
     "execution_count": 44,
     "metadata": {},
     "output_type": "execute_result"
    }
   ],
   "source": [
    "# FG - Field Goals Per Game\n",
    "Season_2000['FG'].describe()"
   ]
  },
  {
   "cell_type": "code",
   "execution_count": 45,
   "id": "305bcc98-5d39-4a41-97d5-d264d21dcd6e",
   "metadata": {},
   "outputs": [
    {
     "name": "stderr",
     "output_type": "stream",
     "text": [
      "C:\\Users\\user\\Anaconda3\\lib\\site-packages\\seaborn\\distributions.py:2619: FutureWarning: `distplot` is a deprecated function and will be removed in a future version. Please adapt your code to use either `displot` (a figure-level function with similar flexibility) or `histplot` (an axes-level function for histograms).\n",
      "  warnings.warn(msg, FutureWarning)\n"
     ]
    },
    {
     "data": {
      "text/plain": [
       "Text(0.5, 1.0, 'Field Goals Per Game')"
      ]
     },
     "execution_count": 45,
     "metadata": {},
     "output_type": "execute_result"
    },
    {
     "data": {
      "image/png": "[encoded data removed]",
      "text/plain": [
       "<Figure size 432x288 with 1 Axes>"
      ]
     },
     "metadata": {
      "needs_background": "light"
     },
     "output_type": "display_data"
    }
   ],
   "source": [
    "# Histograma\n",
    "sbn.distplot(Season_2000['FG'], color = '#c65102').set_title('Field Goals Per Game')"
   ]
  },
  {
   "cell_type": "code",
   "execution_count": 46,
   "id": "f994740d-aec4-4d99-8d80-cb50809435da",
   "metadata": {},
   "outputs": [
    {
     "name": "stderr",
     "output_type": "stream",
     "text": [
      "C:\\Users\\user\\Anaconda3\\lib\\site-packages\\seaborn\\_decorators.py:36: FutureWarning: Pass the following variable as a keyword arg: x. From version 0.12, the only valid positional argument will be `data`, and passing other arguments without an explicit keyword will result in an error or misinterpretation.\n",
      "  warnings.warn(\n"
     ]
    },
    {
     "data": {
      "text/plain": [
       "Text(0.5, 1.0, 'Field Goals Per Game')"
      ]
     },
     "execution_count": 46,
     "metadata": {},
     "output_type": "execute_result"
    },
    {
     "data": {
      "image/png": "[encoded data removed]",
      "text/plain": [
       "<Figure size 432x288 with 1 Axes>"
      ]
     },
     "metadata": {
      "needs_background": "light"
     },
     "output_type": "display_data"
    }
   ],
   "source": [
    "# Boxplot\n",
    "sbn.boxplot(Season_2000['FG'], color = '#b790d4').set_title('Field Goals Per Game')"
   ]
  },
  {
   "cell_type": "code",
   "execution_count": 47,
   "id": "fe2b8da0-c822-4085-9533-0b473fcc4d18",
   "metadata": {},
   "outputs": [
    {
     "name": "stdout",
     "output_type": "stream",
     "text": [
      "                Player Pos   Age   Tm     G    GS    MP    FG  Three_Pts  \\\n",
      "86        Vince Carter  SF  23.0  TOR  82.0  82.0  38.1   9.6        1.2   \n",
      "158     Michael Finley  SF  26.0  DAL  82.0  82.0  42.2   9.1        1.2   \n",
      "168     Kevin Garnett*  PF  23.0  MIN  81.0  81.0  40.0   9.4        0.4   \n",
      "209        Grant Hill*  SF  27.0  DET  74.0  74.0  37.5   9.4        0.5   \n",
      "224     Allen Iverson*  SG  24.0  PHI  70.0  70.0  40.8  10.4        1.3   \n",
      "295       Karl Malone*  PF  36.0  UTA  82.0  82.0  35.9   9.2        0.0   \n",
      "350  Shaquille O'Neal*   C  27.0  LAL  79.0  79.0  40.0  12.1        0.0   \n",
      "370       Gary Payton*  PG  31.0  SEA  82.0  82.0  41.8   9.1        2.2   \n",
      "488      Chris Webber*  PF  26.0  SAC  75.0  75.0  38.4  10.0        0.4   \n",
      "\n",
      "     Two_Pts   FT  ORB  DRB   TRB  AST  STL  BLK  TOV   PF   PTS  \n",
      "86       8.5  5.3  1.8  4.0   5.8  3.9  1.3  1.1  2.2  3.2  25.7  \n",
      "158      7.9  3.2  1.5  4.8   6.3  5.3  1.3  0.4  2.4  2.1  22.6  \n",
      "168      9.0  3.8  2.8  9.0  11.8  5.0  1.5  1.6  3.3  2.5  22.9  \n",
      "209      8.9  6.5  1.3  5.3   6.6  5.2  1.4  0.6  3.2  2.6  25.8  \n",
      "224      9.1  6.3  1.0  2.8   3.8  4.7  2.1  0.1  3.3  2.3  28.4  \n",
      "295      9.1  7.2  2.1  7.4   9.5  3.7  1.0  0.9  2.8  2.8  25.5  \n",
      "350     12.1  5.5  4.3  9.4  13.6  3.8  0.5  3.0  2.8  3.2  29.7  \n",
      "370      7.0  3.8  1.2  5.2   6.5  8.9  1.9  0.2  2.7  2.2  24.2  \n",
      "488      9.6  4.1  2.5  8.0  10.5  4.6  1.6  1.7  2.9  3.5  24.5  \n"
     ]
    }
   ],
   "source": [
    "# filtrando o dataframe para selecionar linhas onde a meta de campo por jogo superou 9 pontos:\n",
    "tops_fg = Season_2000.query('FG > 9')\n",
    "print(tops_fg)"
   ]
  },
  {
   "cell_type": "code",
   "execution_count": 48,
   "id": "a471d72f-ab95-4daf-9ae7-87f151f7acfe",
   "metadata": {},
   "outputs": [
    {
     "data": {
      "text/plain": [
       "count    388.000000\n",
       "mean       0.475773\n",
       "std        0.532248\n",
       "min        0.000000\n",
       "25%        0.000000\n",
       "50%        0.300000\n",
       "75%        0.800000\n",
       "max        2.200000\n",
       "Name: Three_Pts, dtype: float64"
      ]
     },
     "execution_count": 48,
     "metadata": {},
     "output_type": "execute_result"
    }
   ],
   "source": [
    "# 3P - 3-point Field Goals Per Game\n",
    "Season_2000['Three_Pts'].describe()"
   ]
  },
  {
   "cell_type": "code",
   "execution_count": 49,
   "id": "7c29bd84-ef37-4607-8c10-43327908b08a",
   "metadata": {},
   "outputs": [
    {
     "name": "stdout",
     "output_type": "stream",
     "text": [
      "             Player Pos   Age   Tm     G    GS    MP   FG  Three_Pts  Two_Pts  \\\n",
      "5        Ray Allen*  SG  24.0  MIL  82.0  82.0  37.4  7.8        2.1      5.7   \n",
      "26      Brent Barry  SG  28.0  SEA  80.0  74.0  34.1  4.1        2.1      2.0   \n",
      "223  Lindsey Hunter  PG  29.0  DET  82.0  82.0  35.6  4.6        2.0      2.6   \n",
      "326  Reggie Miller*  SG  34.0  IND  81.0  81.0  36.9  5.8        2.0      3.7   \n",
      "370    Gary Payton*  PG  31.0  SEA  82.0  82.0  41.8  9.1        2.2      7.0   \n",
      "\n",
      "      FT  ORB  DRB  TRB  AST  STL  BLK  TOV   PF   PTS  \n",
      "5    4.3  1.0  3.4  4.4  3.8  1.3  0.2  2.2  2.3  22.1  \n",
      "26   1.6  0.6  4.0  4.7  3.6  1.3  0.4  1.8  2.9  11.8  \n",
      "223  1.4  0.4  2.6  3.0  4.0  1.6  0.3  1.8  2.6  12.7  \n",
      "326  4.6  0.6  2.3  3.0  2.3  1.0  0.3  1.6  1.6  18.1  \n",
      "370  3.8  1.2  5.2  6.5  8.9  1.9  0.2  2.7  2.2  24.2  \n"
     ]
    }
   ],
   "source": [
    "# Quais os jogadores que marcaram pelo menos 2 cestas de 3 pts por jogo?\n",
    "tops_3P = Season_2000.query('Three_Pts>=2')\n",
    "print(tops_3P)"
   ]
  },
  {
   "cell_type": "code",
   "execution_count": 50,
   "id": "20eeb9b0-f58e-4f8f-8b8b-f4b51a00a433",
   "metadata": {},
   "outputs": [
    {
     "name": "stderr",
     "output_type": "stream",
     "text": [
      "C:\\Users\\user\\Anaconda3\\lib\\site-packages\\seaborn\\distributions.py:2619: FutureWarning: `distplot` is a deprecated function and will be removed in a future version. Please adapt your code to use either `displot` (a figure-level function with similar flexibility) or `histplot` (an axes-level function for histograms).\n",
      "  warnings.warn(msg, FutureWarning)\n"
     ]
    },
    {
     "data": {
      "text/plain": [
       "Text(0.5, 1.0, '3-point Field Goals Per Game')"
      ]
     },
     "execution_count": 50,
     "metadata": {},
     "output_type": "execute_result"
    },
    {
     "data": {
      "image/png": "[encoded data removed]",
      "text/plain": [
       "<Figure size 432x288 with 1 Axes>"
      ]
     },
     "metadata": {
      "needs_background": "light"
     },
     "output_type": "display_data"
    }
   ],
   "source": [
    "# Histograma\n",
    "sbn.distplot(Season_2000['Three_Pts'], color = '#c65102').set_title('3-point Field Goals Per Game')"
   ]
  },
  {
   "cell_type": "code",
   "execution_count": 51,
   "id": "37e4e93b-7f37-4b94-b8a6-2073c2d96f6c",
   "metadata": {},
   "outputs": [
    {
     "name": "stderr",
     "output_type": "stream",
     "text": [
      "C:\\Users\\user\\Anaconda3\\lib\\site-packages\\seaborn\\_decorators.py:36: FutureWarning: Pass the following variable as a keyword arg: x. From version 0.12, the only valid positional argument will be `data`, and passing other arguments without an explicit keyword will result in an error or misinterpretation.\n",
      "  warnings.warn(\n"
     ]
    },
    {
     "data": {
      "text/plain": [
       "Text(0.5, 1.0, '3-point Field Goals Per Game')"
      ]
     },
     "execution_count": 51,
     "metadata": {},
     "output_type": "execute_result"
    },
    {
     "data": {
      "image/png": "[encoded data removed]",
      "text/plain": [
       "<Figure size 432x288 with 1 Axes>"
      ]
     },
     "metadata": {
      "needs_background": "light"
     },
     "output_type": "display_data"
    }
   ],
   "source": [
    "# Boxplot\n",
    "sbn.boxplot(Season_2000['Three_Pts'], color = '#b790d4').set_title('3-point Field Goals Per Game')"
   ]
  },
  {
   "cell_type": "code",
   "execution_count": 52,
   "id": "2f896ba5-6ae0-476b-b380-0351151ecce1",
   "metadata": {},
   "outputs": [
    {
     "data": {
      "text/plain": [
       "count    388.000000\n",
       "mean       2.901289\n",
       "std        2.044801\n",
       "min        0.100000\n",
       "25%        1.400000\n",
       "50%        2.400000\n",
       "75%        4.000000\n",
       "max       12.100000\n",
       "Name: Two_Pts, dtype: float64"
      ]
     },
     "execution_count": 52,
     "metadata": {},
     "output_type": "execute_result"
    }
   ],
   "source": [
    "# 2P - 2-point field goals per game\n",
    "Season_2000['Two_Pts'].describe()"
   ]
  },
  {
   "cell_type": "code",
   "execution_count": 53,
   "id": "8274c73d-26ec-41b5-8117-3c5e43115daa",
   "metadata": {},
   "outputs": [
    {
     "name": "stderr",
     "output_type": "stream",
     "text": [
      "C:\\Users\\user\\Anaconda3\\lib\\site-packages\\seaborn\\distributions.py:2619: FutureWarning: `distplot` is a deprecated function and will be removed in a future version. Please adapt your code to use either `displot` (a figure-level function with similar flexibility) or `histplot` (an axes-level function for histograms).\n",
      "  warnings.warn(msg, FutureWarning)\n"
     ]
    },
    {
     "data": {
      "text/plain": [
       "Text(0.5, 1.0, '2-point field goals per game')"
      ]
     },
     "execution_count": 53,
     "metadata": {},
     "output_type": "execute_result"
    },
    {
     "data": {
      "image/png": "[encoded data removed]",
      "text/plain": [
       "<Figure size 432x288 with 1 Axes>"
      ]
     },
     "metadata": {
      "needs_background": "light"
     },
     "output_type": "display_data"
    }
   ],
   "source": [
    "# Histograma\n",
    "sbn.distplot(Season_2000['Two_Pts'], color = '#c65102').set_title('2-point field goals per game')"
   ]
  },
  {
   "cell_type": "code",
   "execution_count": 54,
   "id": "408faf12-0937-41ad-99e2-4fca86fb2552",
   "metadata": {},
   "outputs": [
    {
     "name": "stderr",
     "output_type": "stream",
     "text": [
      "C:\\Users\\user\\Anaconda3\\lib\\site-packages\\seaborn\\_decorators.py:36: FutureWarning: Pass the following variable as a keyword arg: x. From version 0.12, the only valid positional argument will be `data`, and passing other arguments without an explicit keyword will result in an error or misinterpretation.\n",
      "  warnings.warn(\n"
     ]
    },
    {
     "data": {
      "text/plain": [
       "Text(0.5, 1.0, '2-point field goals per game')"
      ]
     },
     "execution_count": 54,
     "metadata": {},
     "output_type": "execute_result"
    },
    {
     "data": {
      "image/png": "[encoded data removed]",
      "text/plain": [
       "<Figure size 432x288 with 1 Axes>"
      ]
     },
     "metadata": {
      "needs_background": "light"
     },
     "output_type": "display_data"
    }
   ],
   "source": [
    "# Histograma\n",
    "sbn.boxplot(Season_2000['Two_Pts'], color = '#b790d4').set_title('2-point field goals per game')"
   ]
  },
  {
   "cell_type": "code",
   "execution_count": 55,
   "id": "8910f6c5-cadd-44e9-aae8-c8973ebbd85d",
   "metadata": {},
   "outputs": [
    {
     "data": {
      "text/plain": [
       "count    388.000000\n",
       "mean       1.710052\n",
       "std        1.370368\n",
       "min        0.000000\n",
       "25%        0.700000\n",
       "50%        1.300000\n",
       "75%        2.400000\n",
       "max        7.500000\n",
       "Name: FT, dtype: float64"
      ]
     },
     "execution_count": 55,
     "metadata": {},
     "output_type": "execute_result"
    }
   ],
   "source": [
    "# FT - Free Throws Per Game\n",
    "Season_2000['FT'].describe()"
   ]
  },
  {
   "cell_type": "code",
   "execution_count": 56,
   "id": "0af39b4a-6973-4eaf-85b7-4d6a8c46d881",
   "metadata": {},
   "outputs": [
    {
     "name": "stderr",
     "output_type": "stream",
     "text": [
      "C:\\Users\\user\\Anaconda3\\lib\\site-packages\\seaborn\\distributions.py:2619: FutureWarning: `distplot` is a deprecated function and will be removed in a future version. Please adapt your code to use either `displot` (a figure-level function with similar flexibility) or `histplot` (an axes-level function for histograms).\n",
      "  warnings.warn(msg, FutureWarning)\n"
     ]
    },
    {
     "data": {
      "text/plain": [
       "Text(0.5, 1.0, 'Free Throws Per Game')"
      ]
     },
     "execution_count": 56,
     "metadata": {},
     "output_type": "execute_result"
    },
    {
     "data": {
      "image/png": "[encoded data removed]",
      "text/plain": [
       "<Figure size 432x288 with 1 Axes>"
      ]
     },
     "metadata": {
      "needs_background": "light"
     },
     "output_type": "display_data"
    }
   ],
   "source": [
    "# Histograma\n",
    "sbn.distplot(Season_2000['FT'], color = '#c65102').set_title('Free Throws Per Game')"
   ]
  },
  {
   "cell_type": "code",
   "execution_count": 57,
   "id": "834bfe1d-4dc6-44b2-a04b-147a010c2cf1",
   "metadata": {},
   "outputs": [
    {
     "name": "stderr",
     "output_type": "stream",
     "text": [
      "C:\\Users\\user\\Anaconda3\\lib\\site-packages\\seaborn\\_decorators.py:36: FutureWarning: Pass the following variable as a keyword arg: x. From version 0.12, the only valid positional argument will be `data`, and passing other arguments without an explicit keyword will result in an error or misinterpretation.\n",
      "  warnings.warn(\n"
     ]
    },
    {
     "data": {
      "text/plain": [
       "Text(0.5, 1.0, 'Free Throws Per Game')"
      ]
     },
     "execution_count": 57,
     "metadata": {},
     "output_type": "execute_result"
    },
    {
     "data": {
      "image/png": "[encoded data removed]",
      "text/plain": [
       "<Figure size 432x288 with 1 Axes>"
      ]
     },
     "metadata": {
      "needs_background": "light"
     },
     "output_type": "display_data"
    }
   ],
   "source": [
    "# Boxplot\n",
    "sbn.boxplot(Season_2000['FT'], color = '#b790d4').set_title('Free Throws Per Game')"
   ]
  },
  {
   "cell_type": "code",
   "execution_count": 58,
   "id": "9175dded-e278-46bc-bf28-2ef448277737",
   "metadata": {},
   "outputs": [
    {
     "data": {
      "text/plain": [
       "count    388.000000\n",
       "mean       1.043557\n",
       "std        0.844551\n",
       "min        0.000000\n",
       "25%        0.400000\n",
       "50%        0.800000\n",
       "75%        1.500000\n",
       "max        4.300000\n",
       "Name: ORB, dtype: float64"
      ]
     },
     "execution_count": 58,
     "metadata": {},
     "output_type": "execute_result"
    }
   ],
   "source": [
    "# ORB - Offensive Rebounds Per Game\n",
    "Season_2000['ORB'].describe()"
   ]
  },
  {
   "cell_type": "code",
   "execution_count": 59,
   "id": "9fb71d3e-7793-4898-a780-623645dbc6b1",
   "metadata": {},
   "outputs": [
    {
     "name": "stderr",
     "output_type": "stream",
     "text": [
      "C:\\Users\\user\\Anaconda3\\lib\\site-packages\\seaborn\\distributions.py:2619: FutureWarning: `distplot` is a deprecated function and will be removed in a future version. Please adapt your code to use either `displot` (a figure-level function with similar flexibility) or `histplot` (an axes-level function for histograms).\n",
      "  warnings.warn(msg, FutureWarning)\n"
     ]
    },
    {
     "data": {
      "text/plain": [
       "Text(0.5, 1.0, 'Offensive Rebounds Per Game')"
      ]
     },
     "execution_count": 59,
     "metadata": {},
     "output_type": "execute_result"
    },
    {
     "data": {
      "image/png": "[encoded data removed]",
      "text/plain": [
       "<Figure size 432x288 with 1 Axes>"
      ]
     },
     "metadata": {
      "needs_background": "light"
     },
     "output_type": "display_data"
    }
   ],
   "source": [
    "# Histograma\n",
    "sbn.distplot(Season_2000['ORB'], color = '#c65102').set_title('Offensive Rebounds Per Game')"
   ]
  },
  {
   "cell_type": "code",
   "execution_count": 60,
   "id": "7dc006f6-79ca-42d9-afcc-1cdb0acd4027",
   "metadata": {},
   "outputs": [
    {
     "name": "stderr",
     "output_type": "stream",
     "text": [
      "C:\\Users\\user\\Anaconda3\\lib\\site-packages\\seaborn\\_decorators.py:36: FutureWarning: Pass the following variable as a keyword arg: x. From version 0.12, the only valid positional argument will be `data`, and passing other arguments without an explicit keyword will result in an error or misinterpretation.\n",
      "  warnings.warn(\n"
     ]
    },
    {
     "data": {
      "text/plain": [
       "Text(0.5, 1.0, 'Offensive Rebounds Per Game')"
      ]
     },
     "execution_count": 60,
     "metadata": {},
     "output_type": "execute_result"
    },
    {
     "data": {
      "image/png": "[encoded data removed]",
      "text/plain": [
       "<Figure size 432x288 with 1 Axes>"
      ]
     },
     "metadata": {
      "needs_background": "light"
     },
     "output_type": "display_data"
    }
   ],
   "source": [
    "# Boxplot\n",
    "sbn.boxplot(Season_2000['ORB'], color = '#b790d4').set_title('Offensive Rebounds Per Game')"
   ]
  },
  {
   "cell_type": "code",
   "execution_count": 61,
   "id": "8a250e36-a905-445d-8023-75a34add7830",
   "metadata": {},
   "outputs": [
    {
     "data": {
      "text/plain": [
       "count    388.000000\n",
       "mean       2.643041\n",
       "std        1.726770\n",
       "min        0.000000\n",
       "25%        1.400000\n",
       "50%        2.300000\n",
       "75%        3.600000\n",
       "max       10.300000\n",
       "Name: DRB, dtype: float64"
      ]
     },
     "execution_count": 61,
     "metadata": {},
     "output_type": "execute_result"
    }
   ],
   "source": [
    "# DRB - Defensive Rebounds Per Game\n",
    "Season_2000['DRB'].describe()"
   ]
  },
  {
   "cell_type": "code",
   "execution_count": 62,
   "id": "93ae1545-cbe4-4fe8-bb2d-e8228426c580",
   "metadata": {},
   "outputs": [
    {
     "name": "stderr",
     "output_type": "stream",
     "text": [
      "C:\\Users\\user\\Anaconda3\\lib\\site-packages\\seaborn\\distributions.py:2619: FutureWarning: `distplot` is a deprecated function and will be removed in a future version. Please adapt your code to use either `displot` (a figure-level function with similar flexibility) or `histplot` (an axes-level function for histograms).\n",
      "  warnings.warn(msg, FutureWarning)\n"
     ]
    },
    {
     "data": {
      "text/plain": [
       "Text(0.5, 1.0, 'Defensive Rebounds Per Game')"
      ]
     },
     "execution_count": 62,
     "metadata": {},
     "output_type": "execute_result"
    },
    {
     "data": {
      "image/png": "[encoded data removed]",
      "text/plain": [
       "<Figure size 432x288 with 1 Axes>"
      ]
     },
     "metadata": {
      "needs_background": "light"
     },
     "output_type": "display_data"
    }
   ],
   "source": [
    "# Histograma\n",
    "sbn.distplot(Season_2000['DRB'], color = '#c65102').set_title('Defensive Rebounds Per Game')"
   ]
  },
  {
   "cell_type": "code",
   "execution_count": 63,
   "id": "8c2bea34-28ee-46cf-964c-a5e92c6e6087",
   "metadata": {},
   "outputs": [
    {
     "name": "stderr",
     "output_type": "stream",
     "text": [
      "C:\\Users\\user\\Anaconda3\\lib\\site-packages\\seaborn\\_decorators.py:36: FutureWarning: Pass the following variable as a keyword arg: x. From version 0.12, the only valid positional argument will be `data`, and passing other arguments without an explicit keyword will result in an error or misinterpretation.\n",
      "  warnings.warn(\n"
     ]
    },
    {
     "data": {
      "text/plain": [
       "Text(0.5, 1.0, 'Defensive Rebounds Per Game')"
      ]
     },
     "execution_count": 63,
     "metadata": {},
     "output_type": "execute_result"
    },
    {
     "data": {
      "image/png": "[encoded data removed]",
      "text/plain": [
       "<Figure size 432x288 with 1 Axes>"
      ]
     },
     "metadata": {
      "needs_background": "light"
     },
     "output_type": "display_data"
    }
   ],
   "source": [
    "# Boxplot\n",
    "sbn.boxplot(Season_2000['DRB'], color = '#b790d4').set_title('Defensive Rebounds Per Game')"
   ]
  },
  {
   "cell_type": "code",
   "execution_count": 64,
   "id": "b519831b-f87f-404e-b65e-1019c9ddd2b3",
   "metadata": {},
   "outputs": [
    {
     "data": {
      "text/plain": [
       "count    388.000000\n",
       "mean       3.687113\n",
       "std        2.460612\n",
       "min        0.000000\n",
       "25%        1.800000\n",
       "50%        3.100000\n",
       "75%        5.000000\n",
       "max       14.300000\n",
       "Name: TRB, dtype: float64"
      ]
     },
     "execution_count": 64,
     "metadata": {},
     "output_type": "execute_result"
    }
   ],
   "source": [
    "# TRB - Total Rebounds Per Game\n",
    "Season_2000['TRB'].describe()"
   ]
  },
  {
   "cell_type": "code",
   "execution_count": 65,
   "id": "3f5e1292-320e-458f-8602-16d288f4fbb8",
   "metadata": {},
   "outputs": [
    {
     "name": "stderr",
     "output_type": "stream",
     "text": [
      "C:\\Users\\user\\Anaconda3\\lib\\site-packages\\seaborn\\distributions.py:2619: FutureWarning: `distplot` is a deprecated function and will be removed in a future version. Please adapt your code to use either `displot` (a figure-level function with similar flexibility) or `histplot` (an axes-level function for histograms).\n",
      "  warnings.warn(msg, FutureWarning)\n"
     ]
    },
    {
     "data": {
      "text/plain": [
       "Text(0.5, 1.0, 'Total Rebounds Per Game')"
      ]
     },
     "execution_count": 65,
     "metadata": {},
     "output_type": "execute_result"
    },
    {
     "data": {
      "image/png": "[encoded data removed]",
      "text/plain": [
       "<Figure size 432x288 with 1 Axes>"
      ]
     },
     "metadata": {
      "needs_background": "light"
     },
     "output_type": "display_data"
    }
   ],
   "source": [
    "# Histograma\n",
    "sbn.distplot(Season_2000['TRB'], color = '#c65102').set_title('Total Rebounds Per Game')"
   ]
  },
  {
   "cell_type": "code",
   "execution_count": 66,
   "id": "85b6f404-48fe-4fba-8980-32995f436a14",
   "metadata": {},
   "outputs": [
    {
     "name": "stderr",
     "output_type": "stream",
     "text": [
      "C:\\Users\\user\\Anaconda3\\lib\\site-packages\\seaborn\\_decorators.py:36: FutureWarning: Pass the following variable as a keyword arg: x. From version 0.12, the only valid positional argument will be `data`, and passing other arguments without an explicit keyword will result in an error or misinterpretation.\n",
      "  warnings.warn(\n"
     ]
    },
    {
     "data": {
      "text/plain": [
       "Text(0.5, 1.0, 'Total Rebounds Per Game')"
      ]
     },
     "execution_count": 66,
     "metadata": {},
     "output_type": "execute_result"
    },
    {
     "data": {
      "image/png": "[encoded data removed]",
      "text/plain": [
       "<Figure size 432x288 with 1 Axes>"
      ]
     },
     "metadata": {
      "needs_background": "light"
     },
     "output_type": "display_data"
    }
   ],
   "source": [
    "# Boxplot\n",
    "sbn.boxplot(Season_2000['TRB'], color = '#b790d4').set_title('Total Rebounds Per Game')"
   ]
  },
  {
   "cell_type": "code",
   "execution_count": 67,
   "id": "6490782b-a7e0-463a-bdcf-bc82f8c708fe",
   "metadata": {},
   "outputs": [
    {
     "data": {
      "text/plain": [
       "count    388.000000\n",
       "mean       2.149485\n",
       "std        1.814363\n",
       "min        0.000000\n",
       "25%        0.900000\n",
       "50%        1.700000\n",
       "75%        2.800000\n",
       "max       10.100000\n",
       "Name: AST, dtype: float64"
      ]
     },
     "execution_count": 67,
     "metadata": {},
     "output_type": "execute_result"
    }
   ],
   "source": [
    "# AST - Assists per game\n",
    "Season_2000['AST'].describe()"
   ]
  },
  {
   "cell_type": "code",
   "execution_count": 68,
   "id": "52f7f11b-3607-4d1e-b1e4-442b01fd1a7e",
   "metadata": {},
   "outputs": [
    {
     "data": {
      "text/plain": [
       "0.19294387358536297"
      ]
     },
     "execution_count": 68,
     "metadata": {},
     "output_type": "execute_result"
    }
   ],
   "source": [
    "# Importação da função\n",
    "from scipy.stats import poisson\n",
    "# Qual a probabilidade de ocorrer 3 assistências por jogo\n",
    "poisson.pmf(3, 2.15)"
   ]
  },
  {
   "cell_type": "code",
   "execution_count": 69,
   "id": "c013f0ac-fc78-4609-add0-d6983927219f",
   "metadata": {},
   "outputs": [
    {
     "name": "stderr",
     "output_type": "stream",
     "text": [
      "C:\\Users\\user\\Anaconda3\\lib\\site-packages\\seaborn\\distributions.py:2619: FutureWarning: `distplot` is a deprecated function and will be removed in a future version. Please adapt your code to use either `displot` (a figure-level function with similar flexibility) or `histplot` (an axes-level function for histograms).\n",
      "  warnings.warn(msg, FutureWarning)\n"
     ]
    },
    {
     "data": {
      "text/plain": [
       "Text(0.5, 1.0, 'Assists per game')"
      ]
     },
     "execution_count": 69,
     "metadata": {},
     "output_type": "execute_result"
    },
    {
     "data": {
      "image/png": "[encoded data removed]",
      "text/plain": [
       "<Figure size 432x288 with 1 Axes>"
      ]
     },
     "metadata": {
      "needs_background": "light"
     },
     "output_type": "display_data"
    }
   ],
   "source": [
    "# Histograma\n",
    "sbn.distplot(Season_2000['AST'], color = '#c65102').set_title('Assists per game')"
   ]
  },
  {
   "cell_type": "code",
   "execution_count": 70,
   "id": "08e2e456-c494-48e7-8bd5-cf1951dd1044",
   "metadata": {},
   "outputs": [
    {
     "name": "stderr",
     "output_type": "stream",
     "text": [
      "C:\\Users\\user\\Anaconda3\\lib\\site-packages\\seaborn\\_decorators.py:36: FutureWarning: Pass the following variable as a keyword arg: x. From version 0.12, the only valid positional argument will be `data`, and passing other arguments without an explicit keyword will result in an error or misinterpretation.\n",
      "  warnings.warn(\n"
     ]
    },
    {
     "data": {
      "text/plain": [
       "Text(0.5, 1.0, 'Assists per game')"
      ]
     },
     "execution_count": 70,
     "metadata": {},
     "output_type": "execute_result"
    },
    {
     "data": {
      "image/png": "[encoded data removed]",
      "text/plain": [
       "<Figure size 432x288 with 1 Axes>"
      ]
     },
     "metadata": {
      "needs_background": "light"
     },
     "output_type": "display_data"
    }
   ],
   "source": [
    "# Boxplot\n",
    "sbn.boxplot(Season_2000['AST'], color = '#b790d4').set_title('Assists per game')"
   ]
  },
  {
   "cell_type": "code",
   "execution_count": 71,
   "id": "18b31186-b92e-4bb7-b3f0-ae5a3640ef62",
   "metadata": {},
   "outputs": [
    {
     "data": {
      "text/plain": [
       "count    388.000000\n",
       "mean       0.753608\n",
       "std        0.460886\n",
       "min        0.000000\n",
       "25%        0.400000\n",
       "50%        0.600000\n",
       "75%        1.025000\n",
       "max        2.700000\n",
       "Name: STL, dtype: float64"
      ]
     },
     "execution_count": 71,
     "metadata": {},
     "output_type": "execute_result"
    }
   ],
   "source": [
    "# STL - Steals per game\n",
    "Season_2000['STL'].describe()"
   ]
  },
  {
   "cell_type": "code",
   "execution_count": 72,
   "id": "4a632f0a-57de-4191-90ed-e2c4fa2c6b1f",
   "metadata": {},
   "outputs": [
    {
     "name": "stderr",
     "output_type": "stream",
     "text": [
      "C:\\Users\\user\\Anaconda3\\lib\\site-packages\\seaborn\\distributions.py:2619: FutureWarning: `distplot` is a deprecated function and will be removed in a future version. Please adapt your code to use either `displot` (a figure-level function with similar flexibility) or `histplot` (an axes-level function for histograms).\n",
      "  warnings.warn(msg, FutureWarning)\n"
     ]
    },
    {
     "data": {
      "text/plain": [
       "Text(0.5, 1.0, 'Steals per game')"
      ]
     },
     "execution_count": 72,
     "metadata": {},
     "output_type": "execute_result"
    },
    {
     "data": {
      "image/png": "[encoded data removed]",
      "text/plain": [
       "<Figure size 432x288 with 1 Axes>"
      ]
     },
     "metadata": {
      "needs_background": "light"
     },
     "output_type": "display_data"
    }
   ],
   "source": [
    "# Histograma\n",
    "sbn.distplot(Season_2000['STL'], color = '#c65102').set_title('Steals per game')"
   ]
  },
  {
   "cell_type": "code",
   "execution_count": 73,
   "id": "49bddc5e-f60b-452d-86e7-983da23ef6b4",
   "metadata": {},
   "outputs": [
    {
     "name": "stderr",
     "output_type": "stream",
     "text": [
      "C:\\Users\\user\\Anaconda3\\lib\\site-packages\\seaborn\\_decorators.py:36: FutureWarning: Pass the following variable as a keyword arg: x. From version 0.12, the only valid positional argument will be `data`, and passing other arguments without an explicit keyword will result in an error or misinterpretation.\n",
      "  warnings.warn(\n"
     ]
    },
    {
     "data": {
      "text/plain": [
       "Text(0.5, 1.0, 'Steals per game')"
      ]
     },
     "execution_count": 73,
     "metadata": {},
     "output_type": "execute_result"
    },
    {
     "data": {
      "image/png": "[encoded data removed]",
      "text/plain": [
       "<Figure size 432x288 with 1 Axes>"
      ]
     },
     "metadata": {
      "needs_background": "light"
     },
     "output_type": "display_data"
    }
   ],
   "source": [
    "# Boxplot\n",
    "sbn.boxplot(Season_2000['STL'], color = '#b790d4').set_title('Steals per game')"
   ]
  },
  {
   "cell_type": "code",
   "execution_count": 74,
   "id": "d01622e9-e5f5-48b5-9a36-97c388e71ab3",
   "metadata": {},
   "outputs": [
    {
     "data": {
      "text/plain": [
       "count    388.000000\n",
       "mean       0.384021\n",
       "std        0.489109\n",
       "min        0.000000\n",
       "25%        0.100000\n",
       "50%        0.200000\n",
       "75%        0.400000\n",
       "max        3.700000\n",
       "Name: BLK, dtype: float64"
      ]
     },
     "execution_count": 74,
     "metadata": {},
     "output_type": "execute_result"
    }
   ],
   "source": [
    "# BLK - Blocks per game\n",
    "Season_2000['BLK'].describe()"
   ]
  },
  {
   "cell_type": "code",
   "execution_count": 118,
   "id": "f20dc126-1a53-41ec-b27c-fc324f2f7117",
   "metadata": {},
   "outputs": [
    {
     "name": "stdout",
     "output_type": "stream",
     "text": [
      "                Player Pos   Age   Tm     G    GS    MP    FG  Three_Pts  \\\n",
      "57       Shawn Bradley   C  27.0  DAL  77.0  54.0  24.7   3.5        0.0   \n",
      "79        Marcus Camby   C  25.0  NYK  59.0  11.0  26.2   3.8        0.0   \n",
      "142        Tim Duncan*  PF  23.0  SAS  74.0  74.0  38.9   8.5        0.0   \n",
      "272      Raef LaFrentz   C  23.0  DEN  81.0  80.0  30.1   4.8        0.7   \n",
      "335   Alonzo Mourning*   C  29.0  MIA  79.0  78.0  34.8   8.3        0.0   \n",
      "350  Shaquille O'Neal*   C  27.0  LAL  79.0  79.0  40.0  12.1        0.0   \n",
      "356      Greg Ostertag   C  26.0  UTA  81.0   3.0  19.8   1.5        0.0   \n",
      "406    David Robinson*   C  34.0  SAS  80.0  80.0  32.0   6.6        0.0   \n",
      "\n",
      "     Two_Pts   FT  ORB  DRB   TRB  AST  STL  BLK  TOV   PF   PTS  \n",
      "57       3.4  1.5  2.1  4.4   6.5  0.8  0.9  2.5  1.0  3.4   8.4  \n",
      "79       3.8  2.5  2.9  4.9   7.8  0.8  0.7  2.0  1.2  3.5  10.2  \n",
      "142      8.5  6.2  3.5  8.9  12.4  3.2  0.9  2.2  3.3  2.8  23.2  \n",
      "272      4.1  2.0  2.1  5.8   7.9  1.2  0.5  2.2  1.2  3.6  12.4  \n",
      "335      8.3  5.2  2.7  6.8   9.5  1.6  0.5  3.7  2.7  3.9  21.7  \n",
      "350     12.1  5.5  4.3  9.4  13.6  3.8  0.5  3.0  2.8  3.2  29.7  \n",
      "356      1.5  1.5  2.1  3.8   6.0  0.2  0.2  2.1  1.0  2.4   4.5  \n",
      "406      6.6  4.6  2.4  7.2   9.6  1.8  1.2  2.3  2.1  3.1  17.8  \n"
     ]
    }
   ],
   "source": [
    "# Qual jogador que faz mais bloqueios, acima de dois?\n",
    "tops_blk = Season_2000.loc[(Season_2000['BLK'] >= 2)]\n",
    "print(tops_blk)"
   ]
  },
  {
   "cell_type": "code",
   "execution_count": 75,
   "id": "c11d6eef-dcb9-49b9-81d7-945918be5502",
   "metadata": {},
   "outputs": [
    {
     "name": "stderr",
     "output_type": "stream",
     "text": [
      "C:\\Users\\user\\Anaconda3\\lib\\site-packages\\seaborn\\distributions.py:2619: FutureWarning: `distplot` is a deprecated function and will be removed in a future version. Please adapt your code to use either `displot` (a figure-level function with similar flexibility) or `histplot` (an axes-level function for histograms).\n",
      "  warnings.warn(msg, FutureWarning)\n"
     ]
    },
    {
     "data": {
      "text/plain": [
       "Text(0.5, 1.0, 'Blocks per game')"
      ]
     },
     "execution_count": 75,
     "metadata": {},
     "output_type": "execute_result"
    },
    {
     "data": {
      "image/png": "[encoded data removed]",
      "text/plain": [
       "<Figure size 432x288 with 1 Axes>"
      ]
     },
     "metadata": {
      "needs_background": "light"
     },
     "output_type": "display_data"
    }
   ],
   "source": [
    "# Histograma\n",
    "sbn.distplot(Season_2000['BLK'], color = '#c65102').set_title('Blocks per game')"
   ]
  },
  {
   "cell_type": "code",
   "execution_count": 76,
   "id": "810132d2-055b-4f34-a4fa-a9f525f8ee6e",
   "metadata": {},
   "outputs": [
    {
     "name": "stderr",
     "output_type": "stream",
     "text": [
      "C:\\Users\\user\\Anaconda3\\lib\\site-packages\\seaborn\\_decorators.py:36: FutureWarning: Pass the following variable as a keyword arg: x. From version 0.12, the only valid positional argument will be `data`, and passing other arguments without an explicit keyword will result in an error or misinterpretation.\n",
      "  warnings.warn(\n"
     ]
    },
    {
     "data": {
      "text/plain": [
       "Text(0.5, 1.0, 'Blocks per game')"
      ]
     },
     "execution_count": 76,
     "metadata": {},
     "output_type": "execute_result"
    },
    {
     "data": {
      "image/png": "[encoded data removed]",
      "text/plain": [
       "<Figure size 432x288 with 1 Axes>"
      ]
     },
     "metadata": {
      "needs_background": "light"
     },
     "output_type": "display_data"
    }
   ],
   "source": [
    "# Boxplot\n",
    "sbn.boxplot(Season_2000['BLK'], color = '#b790d4').set_title('Blocks per game')"
   ]
  },
  {
   "cell_type": "code",
   "execution_count": 77,
   "id": "1295fea7-5cdf-4d1f-9f94-77566394e930",
   "metadata": {},
   "outputs": [
    {
     "data": {
      "text/plain": [
       "count    388.000000\n",
       "mean       1.380928\n",
       "std        0.809024\n",
       "min        0.000000\n",
       "25%        0.700000\n",
       "50%        1.200000\n",
       "75%        1.900000\n",
       "max        4.000000\n",
       "Name: TOV, dtype: float64"
      ]
     },
     "execution_count": 77,
     "metadata": {},
     "output_type": "execute_result"
    }
   ],
   "source": [
    "# TOV - Turnovers per game\n",
    "Season_2000['TOV'].describe()"
   ]
  },
  {
   "cell_type": "code",
   "execution_count": 125,
   "id": "abce45df-8528-4e93-b31e-8f48780f36a9",
   "metadata": {},
   "outputs": [
    {
     "name": "stdout",
     "output_type": "stream",
     "text": [
      "               Player Pos   Age   Tm     G    GS    MP    FG  Three_Pts  \\\n",
      "87        Sam Cassell  PG  30.0  MIL  81.0  81.0  35.8   6.7        0.3   \n",
      "142       Tim Duncan*  PF  23.0  SAS  74.0  74.0  38.9   8.5        0.0   \n",
      "165     Steve Francis  PG  22.0  HOU  77.0  77.0  36.1   6.5        1.4   \n",
      "168    Kevin Garnett*  PF  23.0  MIN  81.0  81.0  40.0   9.4        0.4   \n",
      "209       Grant Hill*  SF  27.0  DET  74.0  74.0  37.5   9.4        0.5   \n",
      "221      Larry Hughes  SG  21.0  GSW  32.0  32.0  40.8   8.3        0.6   \n",
      "224    Allen Iverson*  SG  24.0  PHI  70.0  70.0  40.8  10.4        1.3   \n",
      "255        Shawn Kemp   C  30.0  CLE  82.0  82.0  30.4   5.9        0.0   \n",
      "261       Jason Kidd*  PG  26.0  PHO  67.0  67.0  39.0   5.2        0.8   \n",
      "269       Toni Kukoč*  SF  31.0  CHI  24.0  23.0  36.2   6.2        0.8   \n",
      "298   Stephon Marbury  PG  22.0  NJN  74.0  74.0  38.9   7.7        0.9   \n",
      "352        Lamar Odom  SF  20.0  LAC  76.0  70.0  36.4   5.9        0.8   \n",
      "435  Jerry Stackhouse  SG  25.0  DET  82.0  82.0  38.4   7.5        1.0   \n",
      "476    Keith Van Horn  PF  24.0  NJN  80.0  80.0  34.8   7.0        1.1   \n",
      "480    Antoine Walker  PF  23.0  BOS  82.0  82.0  36.6   7.9        0.9   \n",
      "500    Jason Williams  PG  24.0  SAC  81.0  81.0  34.1   4.5        1.8   \n",
      "\n",
      "     Two_Pts   FT  ORB  DRB   TRB   AST  STL  BLK  TOV   PF   PTS  \n",
      "87       6.4  4.8  0.9  2.9   3.7   9.0  1.3  0.1  3.3  3.1  18.6  \n",
      "142      8.5  6.2  3.5  8.9  12.4   3.2  0.9  2.2  3.3  2.8  23.2  \n",
      "165      5.1  3.7  2.0  3.3   5.3   6.6  1.5  0.4  4.0  3.0  18.0  \n",
      "168      9.0  3.8  2.8  9.0  11.8   5.0  1.5  1.6  3.3  2.5  22.9  \n",
      "209      8.9  6.5  1.3  5.3   6.6   5.2  1.4  0.6  3.2  2.6  25.8  \n",
      "221      7.8  5.4  1.9  4.0   5.9   4.1  1.9  0.5  3.1  3.0  22.7  \n",
      "224      9.1  6.3  1.0  2.8   3.8   4.7  2.1  0.1  3.3  2.3  28.4  \n",
      "255      5.9  6.0  2.8  6.0   8.8   1.7  1.2  1.2  3.5  4.5  17.8  \n",
      "261      4.4  3.0  1.4  5.8   7.2  10.1  2.0  0.4  3.4  2.2  14.3  \n",
      "269      5.4  4.9  1.5  3.9   5.4   5.2  1.8  0.8  3.1  2.1  18.0  \n",
      "298      6.8  5.9  0.8  2.4   3.2   8.4  1.5  0.2  3.6  2.6  22.2  \n",
      "352      5.1  4.0  2.1  5.7   7.8   4.2  1.2  1.3  3.4  3.8  16.6  \n",
      "435      6.5  7.5  1.4  2.4   3.8   4.5  1.3  0.4  3.8  2.3  23.6  \n",
      "476      5.9  4.2  2.5  6.0   8.5   2.0  0.8  0.8  3.1  3.2  19.2  \n",
      "480      7.0  3.8  2.4  5.5   8.0   3.7  1.4  0.4  3.2  3.2  20.5  \n",
      "500      2.7  1.6  0.3  2.6   2.8   7.3  1.4  0.1  3.7  1.7  12.3  \n",
      "Player       16\n",
      "Pos          16\n",
      "Age          16\n",
      "Tm           16\n",
      "G            16\n",
      "GS           16\n",
      "MP           16\n",
      "FG           16\n",
      "Three_Pts    16\n",
      "Two_Pts      16\n",
      "FT           16\n",
      "ORB          16\n",
      "DRB          16\n",
      "TRB          16\n",
      "AST          16\n",
      "STL          16\n",
      "BLK          16\n",
      "TOV          16\n",
      "PF           16\n",
      "PTS          16\n",
      "dtype: int64\n"
     ]
    }
   ],
   "source": [
    "# Jogadores que mais desperdiçaram bolas por jogo (mais de 3 bolas desperdiçadas)\n",
    "tops_tov = Season_2000.query('TOV>3')\n",
    "print(tops_tov)\n",
    "print(tops_tov.count())"
   ]
  },
  {
   "cell_type": "code",
   "execution_count": 78,
   "id": "f03a36aa-f788-467b-a2f1-fab7aae67f35",
   "metadata": {},
   "outputs": [
    {
     "name": "stderr",
     "output_type": "stream",
     "text": [
      "C:\\Users\\user\\Anaconda3\\lib\\site-packages\\seaborn\\distributions.py:2619: FutureWarning: `distplot` is a deprecated function and will be removed in a future version. Please adapt your code to use either `displot` (a figure-level function with similar flexibility) or `histplot` (an axes-level function for histograms).\n",
      "  warnings.warn(msg, FutureWarning)\n"
     ]
    },
    {
     "data": {
      "text/plain": [
       "Text(0.5, 1.0, 'Turnovers per game')"
      ]
     },
     "execution_count": 78,
     "metadata": {},
     "output_type": "execute_result"
    },
    {
     "data": {
      "image/png": "[encoded data removed]",
      "text/plain": [
       "<Figure size 432x288 with 1 Axes>"
      ]
     },
     "metadata": {
      "needs_background": "light"
     },
     "output_type": "display_data"
    }
   ],
   "source": [
    "# Histograma\n",
    "sbn.distplot(Season_2000['TOV'], color = '#c65102').set_title('Turnovers per game')"
   ]
  },
  {
   "cell_type": "code",
   "execution_count": 79,
   "id": "fcde1875-41d8-4bef-ac5c-67c2499cd87b",
   "metadata": {},
   "outputs": [
    {
     "name": "stderr",
     "output_type": "stream",
     "text": [
      "C:\\Users\\user\\Anaconda3\\lib\\site-packages\\seaborn\\_decorators.py:36: FutureWarning: Pass the following variable as a keyword arg: x. From version 0.12, the only valid positional argument will be `data`, and passing other arguments without an explicit keyword will result in an error or misinterpretation.\n",
      "  warnings.warn(\n"
     ]
    },
    {
     "data": {
      "text/plain": [
       "Text(0.5, 1.0, 'Turnovers per game')"
      ]
     },
     "execution_count": 79,
     "metadata": {},
     "output_type": "execute_result"
    },
    {
     "data": {
      "image/png": "[encoded data removed]",
      "text/plain": [
       "<Figure size 432x288 with 1 Axes>"
      ]
     },
     "metadata": {
      "needs_background": "light"
     },
     "output_type": "display_data"
    }
   ],
   "source": [
    "# Boxplot\n",
    "sbn.boxplot(Season_2000['TOV'], color = '#b790d4').set_title('Turnovers per game')"
   ]
  },
  {
   "cell_type": "code",
   "execution_count": 80,
   "id": "c9e9386f-627a-48c6-843c-45621437e361",
   "metadata": {},
   "outputs": [
    {
     "data": {
      "text/plain": [
       "count    388.000000\n",
       "mean       2.094845\n",
       "std        0.821214\n",
       "min        0.000000\n",
       "25%        1.475000\n",
       "50%        2.200000\n",
       "75%        2.700000\n",
       "max        4.500000\n",
       "Name: PF, dtype: float64"
      ]
     },
     "execution_count": 80,
     "metadata": {},
     "output_type": "execute_result"
    }
   ],
   "source": [
    "# PF - Personal Fouls Per game\n",
    "Season_2000['PF'].describe()"
   ]
  },
  {
   "cell_type": "code",
   "execution_count": 122,
   "id": "409956fe-2bb5-46da-83cb-5c421efefc2e",
   "metadata": {},
   "outputs": [
    {
     "name": "stdout",
     "output_type": "stream",
     "text": [
      "                 Player Pos   Age   Tm     G    GS    MP    FG  Three_Pts  \\\n",
      "23            Vin Baker   C  28.0  SEA  79.0  75.0  36.1   6.5        0.0   \n",
      "77         Jason Caffey  PF  26.0  GSW  71.0  56.0  30.4   4.5        0.0   \n",
      "79         Marcus Camby   C  25.0  NYK  59.0  11.0  26.2   3.8        0.0   \n",
      "198  Othella Harrington  PF  26.0  VAN  82.0  82.0  32.6   5.1        0.0   \n",
      "210         Tyrone Hill  PF  31.0  PHI  68.0  65.0  31.7   4.7        0.0   \n",
      "217        Juwan Howard  PF  26.0  WAS  82.0  82.0  35.5   6.2        0.0   \n",
      "243       Ervin Johnson   C  32.0  MIL  80.0  74.0  26.6   1.8        0.0   \n",
      "255          Shawn Kemp   C  30.0  CLE  82.0  82.0  30.4   5.9        0.0   \n",
      "271  Christian Laettner   C  30.0  DET  82.0  82.0  29.8   4.6        0.1   \n",
      "272       Raef LaFrentz   C  23.0  DEN  81.0  80.0  30.1   4.8        0.7   \n",
      "311     Antonio McDyess  PF  25.0  DEN  81.0  81.0  33.3   7.6        0.0   \n",
      "335    Alonzo Mourning*   C  29.0  MIA  79.0  78.0  34.8   8.3        0.0   \n",
      "351      Charles Oakley  PF  36.0  TOR  80.0  80.0  30.4   2.9        0.2   \n",
      "352          Lamar Odom  SF  20.0  LAC  76.0  70.0  36.4   5.9        0.8   \n",
      "392       Bryant Reeves   C  26.0  VAN  69.0  67.0  25.7   3.7        0.0   \n",
      "411       Rodney Rogers  PF  28.0  PHO  82.0   7.0  27.9   5.2        1.4   \n",
      "427           Joe Smith   C  24.0  MIN  78.0   9.0  25.3   3.7        0.0   \n",
      "458      Maurice Taylor  PF  23.0  LAC  62.0  60.0  35.9   7.4        0.0   \n",
      "465         Kurt Thomas  PF  27.0  NYK  80.0  21.0  24.6   3.4        0.0   \n",
      "488       Chris Webber*  PF  26.0  SAC  75.0  75.0  38.4  10.0        0.4   \n",
      "\n",
      "     Two_Pts   FT  ORB  DRB   TRB  AST  STL  BLK  TOV   PF   PTS  \n",
      "23       6.5  3.6  2.9  4.8   7.7  1.9  0.6  0.8  2.7  3.6  16.6  \n",
      "77       4.5  2.9  2.7  4.1   6.8  1.7  0.9  0.3  2.4  3.8  12.0  \n",
      "79       3.8  2.5  2.9  4.9   7.8  0.8  0.7  2.0  1.2  3.5  10.2  \n",
      "198      5.1  2.9  2.4  4.5   6.9  1.2  0.4  0.7  2.6  3.5  13.1  \n",
      "210      4.7  2.6  3.2  6.0   9.2  0.8  0.9  0.4  1.8  3.6  12.0  \n",
      "217      6.2  2.5  1.6  4.1   5.7  3.0  0.8  0.3  2.7  3.6  14.9  \n",
      "243      1.8  1.2  2.9  5.2   8.1  0.6  1.0  1.6  1.0  3.7   4.8  \n",
      "255      5.9  6.0  2.8  6.0   8.8  1.7  1.2  1.2  3.5  4.5  17.8  \n",
      "271      4.5  2.9  2.1  4.6   6.7  2.3  1.0  0.5  2.3  4.0  12.2  \n",
      "272      4.1  2.0  2.1  5.8   7.9  1.2  0.5  2.2  1.2  3.6  12.4  \n",
      "311      7.6  4.0  2.9  5.6   8.5  2.0  0.9  1.7  2.8  3.9  19.1  \n",
      "335      8.3  5.2  2.7  6.8   9.5  1.6  0.5  3.7  2.7  3.9  21.7  \n",
      "351      2.8  0.8  1.5  5.3   6.8  3.2  1.3  0.6  1.9  3.7   6.9  \n",
      "352      5.1  4.0  2.1  5.7   7.8  4.2  1.2  1.3  3.4  3.8  16.6  \n",
      "392      3.7  1.6  1.8  3.8   5.7  1.2  0.5  0.6  1.7  3.6   8.9  \n",
      "411      3.8  1.9  1.7  3.8   5.5  2.1  1.1  0.6  2.0  3.5  13.8  \n",
      "427      3.7  2.5  2.4  3.8   6.2  1.1  0.6  1.1  1.5  3.9   9.9  \n",
      "458      7.4  2.3  1.5  4.9   6.5  1.6  0.8  0.8  2.7  3.5  17.1  \n",
      "465      3.4  1.3  1.8  4.5   6.3  1.0  0.6  0.5  1.3  3.5   8.0  \n",
      "488      9.6  4.1  2.5  8.0  10.5  4.6  1.6  1.7  2.9  3.5  24.5  \n"
     ]
    }
   ],
   "source": [
    "# Jogadores que mais cometeram faltas acima de 3.5\n",
    "tops_pf = Season_2000.query('PF>=3.5')\n",
    "print(tops_pf)"
   ]
  },
  {
   "cell_type": "code",
   "execution_count": 81,
   "id": "4b3c7956-d9b9-4eda-9cf8-f27f0e2dd135",
   "metadata": {},
   "outputs": [
    {
     "name": "stderr",
     "output_type": "stream",
     "text": [
      "C:\\Users\\user\\Anaconda3\\lib\\site-packages\\seaborn\\distributions.py:2619: FutureWarning: `distplot` is a deprecated function and will be removed in a future version. Please adapt your code to use either `displot` (a figure-level function with similar flexibility) or `histplot` (an axes-level function for histograms).\n",
      "  warnings.warn(msg, FutureWarning)\n"
     ]
    },
    {
     "data": {
      "text/plain": [
       "Text(0.5, 1.0, 'Personal Fouls Per game')"
      ]
     },
     "execution_count": 81,
     "metadata": {},
     "output_type": "execute_result"
    },
    {
     "data": {
      "image/png": "[encoded data removed]",
      "text/plain": [
       "<Figure size 432x288 with 1 Axes>"
      ]
     },
     "metadata": {
      "needs_background": "light"
     },
     "output_type": "display_data"
    }
   ],
   "source": [
    "# Histograma\n",
    "sbn.distplot(Season_2000['PF'], color = '#c65102').set_title('Personal Fouls Per game')"
   ]
  },
  {
   "cell_type": "code",
   "execution_count": 82,
   "id": "18d7b027-05ac-4d62-82cf-576551975cee",
   "metadata": {},
   "outputs": [
    {
     "name": "stderr",
     "output_type": "stream",
     "text": [
      "C:\\Users\\user\\Anaconda3\\lib\\site-packages\\seaborn\\_decorators.py:36: FutureWarning: Pass the following variable as a keyword arg: x. From version 0.12, the only valid positional argument will be `data`, and passing other arguments without an explicit keyword will result in an error or misinterpretation.\n",
      "  warnings.warn(\n"
     ]
    },
    {
     "data": {
      "text/plain": [
       "Text(0.5, 1.0, 'Personal Fouls Per game')"
      ]
     },
     "execution_count": 82,
     "metadata": {},
     "output_type": "execute_result"
    },
    {
     "data": {
      "image/png": "[encoded data removed]",
      "text/plain": [
       "<Figure size 432x288 with 1 Axes>"
      ]
     },
     "metadata": {
      "needs_background": "light"
     },
     "output_type": "display_data"
    }
   ],
   "source": [
    "# Boxplot\n",
    "sbn.boxplot(Season_2000['PF'], color = '#b790d4').set_title('Personal Fouls Per game')"
   ]
  },
  {
   "cell_type": "code",
   "execution_count": 83,
   "id": "39d7d53d-a9f0-4771-a1bb-6d04ac79aa25",
   "metadata": {},
   "outputs": [
    {
     "data": {
      "text/plain": [
       "count    388.000000\n",
       "mean       8.934536\n",
       "std        5.766964\n",
       "min        0.700000\n",
       "25%        4.675000\n",
       "50%        7.300000\n",
       "75%       12.325000\n",
       "max       29.700000\n",
       "Name: PTS, dtype: float64"
      ]
     },
     "execution_count": 83,
     "metadata": {},
     "output_type": "execute_result"
    }
   ],
   "source": [
    "# PTS - Points per game\n",
    "Season_2000['PTS'].describe()"
   ]
  },
  {
   "cell_type": "code",
   "execution_count": 101,
   "id": "81e7be0f-19d4-4863-8b76-66b8974f43ca",
   "metadata": {},
   "outputs": [
    {
     "name": "stdout",
     "output_type": "stream",
     "text": [
      "                  Player Pos   Age   Tm     G    GS    MP    FG  Three_Pts  \\\n",
      "3    Shareef Abdur-Rahim  SF  23.0  VAN  82.0  82.0  39.3   7.2        0.4   \n",
      "5             Ray Allen*  SG  24.0  MIL  82.0  82.0  37.4   7.8        2.1   \n",
      "59           Elton Brand  PF  20.0  CHI  81.0  80.0  37.0   7.8        0.0   \n",
      "69          Kobe Bryant*  SG  21.0  LAL  66.0  62.0  38.2   8.4        0.7   \n",
      "86          Vince Carter  SF  23.0  TOR  82.0  82.0  38.1   9.6        1.2   \n",
      "142          Tim Duncan*  PF  23.0  SAS  74.0  74.0  38.9   8.5        0.0   \n",
      "158       Michael Finley  SF  26.0  DAL  82.0  82.0  42.2   9.1        1.2   \n",
      "168       Kevin Garnett*  PF  23.0  MIN  81.0  81.0  40.0   9.4        0.4   \n",
      "209          Grant Hill*  SF  27.0  DET  74.0  74.0  37.5   9.4        0.5   \n",
      "221         Larry Hughes  SG  21.0  GSW  32.0  32.0  40.8   8.3        0.6   \n",
      "224       Allen Iverson*  SG  24.0  PHI  70.0  70.0  40.8  10.4        1.3   \n",
      "250          Eddie Jones  SG  28.0  CHH  72.0  72.0  39.0   6.6        1.8   \n",
      "295         Karl Malone*  PF  36.0  UTA  82.0  82.0  35.9   9.2        0.0   \n",
      "298      Stephon Marbury  PG  22.0  NJN  74.0  74.0  38.9   7.7        0.9   \n",
      "335     Alonzo Mourning*   C  29.0  MIA  79.0  78.0  34.8   8.3        0.0   \n",
      "350    Shaquille O'Neal*   C  27.0  LAL  79.0  79.0  40.0  12.1        0.0   \n",
      "370         Gary Payton*  PG  31.0  SEA  82.0  82.0  41.8   9.1        2.2   \n",
      "408       Glenn Robinson  SF  27.0  MIL  81.0  81.0  35.9   8.5        1.1   \n",
      "435     Jerry Stackhouse  SG  25.0  DET  82.0  82.0  38.4   7.5        1.0   \n",
      "480       Antoine Walker  PF  23.0  BOS  82.0  82.0  36.6   7.9        0.9   \n",
      "488        Chris Webber*  PF  26.0  SAC  75.0  75.0  38.4  10.0        0.4   \n",
      "\n",
      "     Two_Pts   FT  ORB  DRB   TRB  AST  STL  BLK  TOV   PF   PTS  \n",
      "3        6.9  5.4  2.7  7.4  10.1  3.3  1.1  1.1  3.0  3.0  20.3  \n",
      "5        5.7  4.3  1.0  3.4   4.4  3.8  1.3  0.2  2.2  2.3  22.1  \n",
      "59       7.8  4.5  4.3  5.7  10.0  1.9  0.8  1.6  2.8  3.2  20.1  \n",
      "69       7.7  5.0  1.6  4.7   6.3  4.9  1.6  0.9  2.8  3.3  22.5  \n",
      "86       8.5  5.3  1.8  4.0   5.8  3.9  1.3  1.1  2.2  3.2  25.7  \n",
      "142      8.5  6.2  3.5  8.9  12.4  3.2  0.9  2.2  3.3  2.8  23.2  \n",
      "158      7.9  3.2  1.5  4.8   6.3  5.3  1.3  0.4  2.4  2.1  22.6  \n",
      "168      9.0  3.8  2.8  9.0  11.8  5.0  1.5  1.6  3.3  2.5  22.9  \n",
      "209      8.9  6.5  1.3  5.3   6.6  5.2  1.4  0.6  3.2  2.6  25.8  \n",
      "221      7.8  5.4  1.9  4.0   5.9  4.1  1.9  0.5  3.1  3.0  22.7  \n",
      "224      9.1  6.3  1.0  2.8   3.8  4.7  2.1  0.1  3.3  2.3  28.4  \n",
      "250      4.9  5.0  1.1  3.6   4.8  4.2  2.7  0.7  2.2  2.4  20.1  \n",
      "295      9.1  7.2  2.1  7.4   9.5  3.7  1.0  0.9  2.8  2.8  25.5  \n",
      "298      6.8  5.9  0.8  2.4   3.2  8.4  1.5  0.2  3.6  2.6  22.2  \n",
      "335      8.3  5.2  2.7  6.8   9.5  1.6  0.5  3.7  2.7  3.9  21.7  \n",
      "350     12.1  5.5  4.3  9.4  13.6  3.8  0.5  3.0  2.8  3.2  29.7  \n",
      "370      7.0  3.8  1.2  5.2   6.5  8.9  1.9  0.2  2.7  2.2  24.2  \n",
      "408      7.5  2.8  1.3  4.7   6.0  2.4  1.0  0.5  2.8  2.6  20.9  \n",
      "435      6.5  7.5  1.4  2.4   3.8  4.5  1.3  0.4  3.8  2.3  23.6  \n",
      "480      7.0  3.8  2.4  5.5   8.0  3.7  1.4  0.4  3.2  3.2  20.5  \n",
      "488      9.6  4.1  2.5  8.0  10.5  4.6  1.6  1.7  2.9  3.5  24.5  \n"
     ]
    }
   ],
   "source": [
    "# Quais os jogadores que marcaram mais pontos por jogo?\n",
    "tops_pts = Season_2000.loc[(Season_2000['PTS'] > 20)]\n",
    "print(tops_pts)"
   ]
  },
  {
   "cell_type": "code",
   "execution_count": 85,
   "id": "8ad98345-6c08-4291-b718-b69c91c9fb98",
   "metadata": {},
   "outputs": [
    {
     "name": "stderr",
     "output_type": "stream",
     "text": [
      "C:\\Users\\user\\Anaconda3\\lib\\site-packages\\seaborn\\distributions.py:2619: FutureWarning: `distplot` is a deprecated function and will be removed in a future version. Please adapt your code to use either `displot` (a figure-level function with similar flexibility) or `histplot` (an axes-level function for histograms).\n",
      "  warnings.warn(msg, FutureWarning)\n"
     ]
    },
    {
     "data": {
      "text/plain": [
       "Text(0.5, 1.0, 'Points per game')"
      ]
     },
     "execution_count": 85,
     "metadata": {},
     "output_type": "execute_result"
    },
    {
     "data": {
      "image/png": "[encoded data removed]",
      "text/plain": [
       "<Figure size 432x288 with 1 Axes>"
      ]
     },
     "metadata": {
      "needs_background": "light"
     },
     "output_type": "display_data"
    }
   ],
   "source": [
    "# Histograma\n",
    "sbn.distplot(Season_2000['PTS'], color = '#c65102').set_title('Points per game')"
   ]
  },
  {
   "cell_type": "code",
   "execution_count": 86,
   "id": "cca27fdc-4324-4f88-9696-32331e724602",
   "metadata": {},
   "outputs": [
    {
     "name": "stderr",
     "output_type": "stream",
     "text": [
      "C:\\Users\\user\\Anaconda3\\lib\\site-packages\\seaborn\\_decorators.py:36: FutureWarning: Pass the following variable as a keyword arg: x. From version 0.12, the only valid positional argument will be `data`, and passing other arguments without an explicit keyword will result in an error or misinterpretation.\n",
      "  warnings.warn(\n"
     ]
    },
    {
     "data": {
      "text/plain": [
       "Text(0.5, 1.0, 'Points per game')"
      ]
     },
     "execution_count": 86,
     "metadata": {},
     "output_type": "execute_result"
    },
    {
     "data": {
      "image/png": "[encoded data removed]",
      "text/plain": [
       "<Figure size 432x288 with 1 Axes>"
      ]
     },
     "metadata": {
      "needs_background": "light"
     },
     "output_type": "display_data"
    }
   ],
   "source": [
    "# Boxplot\n",
    "sbn.boxplot(Season_2000['PTS'], color = '#b790d4').set_title('Points per game')"
   ]
  },
  {
   "cell_type": "code",
   "execution_count": 87,
   "id": "4361cbd1-f24c-45e9-876c-cf3871e3caae",
   "metadata": {},
   "outputs": [
    {
     "name": "stderr",
     "output_type": "stream",
     "text": [
      "C:\\Users\\user\\Anaconda3\\lib\\site-packages\\seaborn\\_decorators.py:36: FutureWarning: Pass the following variables as keyword args: x, y. From version 0.12, the only valid positional argument will be `data`, and passing other arguments without an explicit keyword will result in an error or misinterpretation.\n",
      "  warnings.warn(\n"
     ]
    },
    {
     "data": {
      "text/plain": [
       "<AxesSubplot:xlabel='MP', ylabel='PTS'>"
      ]
     },
     "execution_count": 87,
     "metadata": {},
     "output_type": "execute_result"
    },
    {
     "data": {
      "image/png": "[encoded data removed]",
      "text/plain": [
       "<Figure size 432x288 with 1 Axes>"
      ]
     },
     "metadata": {
      "needs_background": "light"
     },
     "output_type": "display_data"
    }
   ],
   "source": [
    "# Gráfico de dispersão com 'afastamento' dos dados (jitter)\n",
    "#fit_reg linha de tendência\n",
    "sbn.regplot(Season_2000.MP, Season_2000.PTS, data = Season_2000, x_jitter = 1.7, fit_reg = True)"
   ]
  },
  {
   "cell_type": "code",
   "execution_count": 88,
   "id": "d8ee1cbb-2bcb-4092-9461-0d46b690b8ea",
   "metadata": {},
   "outputs": [
    {
     "data": {
      "text/plain": [
       "Text(0, 0.5, 'PTS')"
      ]
     },
     "execution_count": 88,
     "metadata": {},
     "output_type": "execute_result"
    },
    {
     "data": {
      "image/png": "[encoded data removed]",
      "text/plain": [
       "<Figure size 432x288 with 1 Axes>"
      ]
     },
     "metadata": {
      "needs_background": "light"
     },
     "output_type": "display_data"
    }
   ],
   "source": [
    "# Gráfico de dispersão considerando os minutos jogados e a dispersão\n",
    "plt.scatter(Season_2000.MP, Season_2000.PTS, color = '#b790d4', facecolors = 'none', marker = '*')\n",
    "plt.title('Minutes Played vs PTS')\n",
    "plt.xlabel('MP')\n",
    "plt.ylabel('PTS')"
   ]
  },
  {
   "cell_type": "code",
   "execution_count": 106,
   "id": "6b30c426-8f68-4660-929b-e7eb9f4437db",
   "metadata": {},
   "outputs": [
    {
     "name": "stdout",
     "output_type": "stream",
     "text": [
      "                Age         G        GS        MP        FG  Three_Pts  \\\n",
      "Age        1.000000  0.035528  0.071288  0.056771 -0.060857   0.121816   \n",
      "G          0.035528  1.000000  0.588561  0.554085  0.481989   0.260020   \n",
      "GS         0.071288  0.588561  1.000000  0.818059  0.738580   0.312864   \n",
      "MP         0.056771  0.554085  0.818059  1.000000  0.888382   0.424750   \n",
      "FG        -0.060857  0.481989  0.738580  0.888382  1.000000   0.352066   \n",
      "Three_Pts  0.121816  0.260020  0.312864  0.424750  0.352066   1.000000   \n",
      "Two_Pts   -0.096375  0.444130  0.702506  0.832669  0.970299   0.116010   \n",
      "FT        -0.082614  0.415846  0.638484  0.779779  0.865092   0.219063   \n",
      "ORB       -0.057904  0.326381  0.420716  0.502736  0.497365  -0.258913   \n",
      "DRB        0.107169  0.436479  0.636028  0.735421  0.684937   0.030405   \n",
      "TRB        0.053848  0.419529  0.590458  0.688447  0.651207  -0.066631   \n",
      "AST        0.045337  0.312936  0.549999  0.642741  0.545523   0.444756   \n",
      "STL        0.000233  0.398615  0.607315  0.739627  0.636314   0.431292   \n",
      "BLK       -0.058736  0.348496  0.402421  0.389819  0.442936  -0.178668   \n",
      "TOV       -0.094919  0.430625  0.695081  0.835056  0.844201   0.288346   \n",
      "PF         0.037189  0.507797  0.561852  0.683544  0.585991   0.039500   \n",
      "PTS       -0.055112  0.487233  0.737446  0.893956  0.990831   0.409170   \n",
      "\n",
      "            Two_Pts        FT       ORB       DRB       TRB       AST  \\\n",
      "Age       -0.096375 -0.082614 -0.057904  0.107169  0.053848  0.045337   \n",
      "G          0.444130  0.415846  0.326381  0.436479  0.419529  0.312936   \n",
      "GS         0.702506  0.638484  0.420716  0.636028  0.590458  0.549999   \n",
      "MP         0.832669  0.779779  0.502736  0.735421  0.688447  0.642741   \n",
      "FG         0.970299  0.865092  0.497365  0.684937  0.651207  0.545523   \n",
      "Three_Pts  0.116010  0.219063 -0.258913  0.030405 -0.066631  0.444756   \n",
      "Two_Pts    1.000000  0.861420  0.594079  0.718835  0.707972  0.464081   \n",
      "FT         0.861420  1.000000  0.511529  0.646699  0.629124  0.469175   \n",
      "ORB        0.594079  0.511529  1.000000  0.812614  0.912660 -0.021258   \n",
      "DRB        0.718835  0.646699  0.812614  1.000000  0.979564  0.252274   \n",
      "TRB        0.707972  0.629124  0.912660  0.979564  1.000000  0.168571   \n",
      "AST        0.464081  0.469175 -0.021258  0.252274  0.168571  1.000000   \n",
      "STL        0.564036  0.595325  0.220558  0.409572  0.363214  0.681120   \n",
      "BLK        0.516078  0.447135  0.648627  0.673507  0.694225 -0.024032   \n",
      "TOV        0.821088  0.822033  0.438777  0.623557  0.587611  0.699846   \n",
      "PF         0.612199  0.559199  0.668043  0.721697  0.735639  0.220090   \n",
      "PTS        0.945932  0.909458  0.472553  0.672295  0.633920  0.563899   \n",
      "\n",
      "                STL       BLK       TOV        PF       PTS  \n",
      "Age        0.000233 -0.058736 -0.094919  0.037189 -0.055112  \n",
      "G          0.398615  0.348496  0.430625  0.507797  0.487233  \n",
      "GS         0.607315  0.402421  0.695081  0.561852  0.737446  \n",
      "MP         0.739627  0.389819  0.835056  0.683544  0.893956  \n",
      "FG         0.636314  0.442936  0.844201  0.585991  0.990831  \n",
      "Three_Pts  0.431292 -0.178668  0.288346  0.039500  0.409170  \n",
      "Two_Pts    0.564036  0.516078  0.821088  0.612199  0.945932  \n",
      "FT         0.595325  0.447135  0.822033  0.559199  0.909458  \n",
      "ORB        0.220558  0.648627  0.438777  0.668043  0.472553  \n",
      "DRB        0.409572  0.673507  0.623557  0.721697  0.672295  \n",
      "TRB        0.363214  0.694225  0.587611  0.735639  0.633920  \n",
      "AST        0.681120 -0.024032  0.699846  0.220090  0.563899  \n",
      "STL        1.000000  0.148470  0.680089  0.445521  0.660882  \n",
      "BLK        0.148470  1.000000  0.322274  0.539669  0.423053  \n",
      "TOV        0.680089  0.322274  1.000000  0.577880  0.857789  \n",
      "PF         0.445521  0.539669  0.577880  1.000000  0.578367  \n",
      "PTS        0.660882  0.423053  0.857789  0.578367  1.000000  \n"
     ]
    }
   ],
   "source": [
    "# matriz de correlação entre as variáveis\n",
    "corr_matrix = Season_2000.corr()\n",
    "print(corr_matrix)"
   ]
  },
  {
   "cell_type": "code",
   "execution_count": 126,
   "id": "3ec8570f-3ba7-4b39-8c40-8dafdd91969d",
   "metadata": {},
   "outputs": [
    {
     "data": {
      "text/html": [
       "<div>\n",
       "<style scoped>\n",
       "    .dataframe tbody tr th:only-of-type {\n",
       "        vertical-align: middle;\n",
       "    }\n",
       "\n",
       "    .dataframe tbody tr th {\n",
       "        vertical-align: top;\n",
       "    }\n",
       "\n",
       "    .dataframe thead th {\n",
       "        text-align: right;\n",
       "    }\n",
       "</style>\n",
       "<table border=\"1\" class=\"dataframe\">\n",
       "  <thead>\n",
       "    <tr style=\"text-align: right;\">\n",
       "      <th></th>\n",
       "      <th>Age</th>\n",
       "      <th>G</th>\n",
       "      <th>GS</th>\n",
       "      <th>MP</th>\n",
       "      <th>FG</th>\n",
       "      <th>Three_Pts</th>\n",
       "      <th>Two_Pts</th>\n",
       "      <th>FT</th>\n",
       "      <th>ORB</th>\n",
       "      <th>DRB</th>\n",
       "      <th>TRB</th>\n",
       "      <th>AST</th>\n",
       "      <th>STL</th>\n",
       "      <th>BLK</th>\n",
       "      <th>TOV</th>\n",
       "      <th>PF</th>\n",
       "      <th>PTS</th>\n",
       "    </tr>\n",
       "  </thead>\n",
       "  <tbody>\n",
       "    <tr>\n",
       "      <th>count</th>\n",
       "      <td>388.000000</td>\n",
       "      <td>388.000000</td>\n",
       "      <td>388.000000</td>\n",
       "      <td>388.000000</td>\n",
       "      <td>388.000000</td>\n",
       "      <td>388.000000</td>\n",
       "      <td>388.000000</td>\n",
       "      <td>388.000000</td>\n",
       "      <td>388.000000</td>\n",
       "      <td>388.000000</td>\n",
       "      <td>388.000000</td>\n",
       "      <td>388.000000</td>\n",
       "      <td>388.000000</td>\n",
       "      <td>388.000000</td>\n",
       "      <td>388.000000</td>\n",
       "      <td>388.000000</td>\n",
       "      <td>388.000000</td>\n",
       "    </tr>\n",
       "    <tr>\n",
       "      <th>mean</th>\n",
       "      <td>27.688144</td>\n",
       "      <td>57.301546</td>\n",
       "      <td>28.538660</td>\n",
       "      <td>22.259536</td>\n",
       "      <td>3.374485</td>\n",
       "      <td>0.475773</td>\n",
       "      <td>2.901289</td>\n",
       "      <td>1.710052</td>\n",
       "      <td>1.043557</td>\n",
       "      <td>2.643041</td>\n",
       "      <td>3.687113</td>\n",
       "      <td>2.149485</td>\n",
       "      <td>0.753608</td>\n",
       "      <td>0.384021</td>\n",
       "      <td>1.380928</td>\n",
       "      <td>2.094845</td>\n",
       "      <td>8.934536</td>\n",
       "    </tr>\n",
       "    <tr>\n",
       "      <th>std</th>\n",
       "      <td>4.482312</td>\n",
       "      <td>24.071369</td>\n",
       "      <td>31.749603</td>\n",
       "      <td>9.610236</td>\n",
       "      <td>2.171032</td>\n",
       "      <td>0.532248</td>\n",
       "      <td>2.044801</td>\n",
       "      <td>1.370368</td>\n",
       "      <td>0.844551</td>\n",
       "      <td>1.726770</td>\n",
       "      <td>2.460612</td>\n",
       "      <td>1.814363</td>\n",
       "      <td>0.460886</td>\n",
       "      <td>0.489109</td>\n",
       "      <td>0.809024</td>\n",
       "      <td>0.821214</td>\n",
       "      <td>5.766964</td>\n",
       "    </tr>\n",
       "    <tr>\n",
       "      <th>min</th>\n",
       "      <td>19.000000</td>\n",
       "      <td>1.000000</td>\n",
       "      <td>0.000000</td>\n",
       "      <td>2.400000</td>\n",
       "      <td>0.100000</td>\n",
       "      <td>0.000000</td>\n",
       "      <td>0.100000</td>\n",
       "      <td>0.000000</td>\n",
       "      <td>0.000000</td>\n",
       "      <td>0.000000</td>\n",
       "      <td>0.000000</td>\n",
       "      <td>0.000000</td>\n",
       "      <td>0.000000</td>\n",
       "      <td>0.000000</td>\n",
       "      <td>0.000000</td>\n",
       "      <td>0.000000</td>\n",
       "      <td>0.700000</td>\n",
       "    </tr>\n",
       "    <tr>\n",
       "      <th>25%</th>\n",
       "      <td>24.000000</td>\n",
       "      <td>39.500000</td>\n",
       "      <td>1.000000</td>\n",
       "      <td>14.350000</td>\n",
       "      <td>1.700000</td>\n",
       "      <td>0.000000</td>\n",
       "      <td>1.400000</td>\n",
       "      <td>0.700000</td>\n",
       "      <td>0.400000</td>\n",
       "      <td>1.400000</td>\n",
       "      <td>1.800000</td>\n",
       "      <td>0.900000</td>\n",
       "      <td>0.400000</td>\n",
       "      <td>0.100000</td>\n",
       "      <td>0.700000</td>\n",
       "      <td>1.475000</td>\n",
       "      <td>4.675000</td>\n",
       "    </tr>\n",
       "    <tr>\n",
       "      <th>50%</th>\n",
       "      <td>27.000000</td>\n",
       "      <td>65.500000</td>\n",
       "      <td>11.000000</td>\n",
       "      <td>21.550000</td>\n",
       "      <td>2.700000</td>\n",
       "      <td>0.300000</td>\n",
       "      <td>2.400000</td>\n",
       "      <td>1.300000</td>\n",
       "      <td>0.800000</td>\n",
       "      <td>2.300000</td>\n",
       "      <td>3.100000</td>\n",
       "      <td>1.700000</td>\n",
       "      <td>0.600000</td>\n",
       "      <td>0.200000</td>\n",
       "      <td>1.200000</td>\n",
       "      <td>2.200000</td>\n",
       "      <td>7.300000</td>\n",
       "    </tr>\n",
       "    <tr>\n",
       "      <th>75%</th>\n",
       "      <td>31.000000</td>\n",
       "      <td>79.000000</td>\n",
       "      <td>63.250000</td>\n",
       "      <td>30.650000</td>\n",
       "      <td>4.700000</td>\n",
       "      <td>0.800000</td>\n",
       "      <td>4.000000</td>\n",
       "      <td>2.400000</td>\n",
       "      <td>1.500000</td>\n",
       "      <td>3.600000</td>\n",
       "      <td>5.000000</td>\n",
       "      <td>2.800000</td>\n",
       "      <td>1.025000</td>\n",
       "      <td>0.400000</td>\n",
       "      <td>1.900000</td>\n",
       "      <td>2.700000</td>\n",
       "      <td>12.325000</td>\n",
       "    </tr>\n",
       "    <tr>\n",
       "      <th>max</th>\n",
       "      <td>39.000000</td>\n",
       "      <td>85.000000</td>\n",
       "      <td>82.000000</td>\n",
       "      <td>42.200000</td>\n",
       "      <td>12.100000</td>\n",
       "      <td>2.200000</td>\n",
       "      <td>12.100000</td>\n",
       "      <td>7.500000</td>\n",
       "      <td>4.300000</td>\n",
       "      <td>10.300000</td>\n",
       "      <td>14.300000</td>\n",
       "      <td>10.100000</td>\n",
       "      <td>2.700000</td>\n",
       "      <td>3.700000</td>\n",
       "      <td>4.000000</td>\n",
       "      <td>4.500000</td>\n",
       "      <td>29.700000</td>\n",
       "    </tr>\n",
       "  </tbody>\n",
       "</table>\n",
       "</div>"
      ],
      "text/plain": [
       "              Age           G          GS          MP          FG   Three_Pts  \\\n",
       "count  388.000000  388.000000  388.000000  388.000000  388.000000  388.000000   \n",
       "mean    27.688144   57.301546   28.538660   22.259536    3.374485    0.475773   \n",
       "std      4.482312   24.071369   31.749603    9.610236    2.171032    0.532248   \n",
       "min     19.000000    1.000000    0.000000    2.400000    0.100000    0.000000   \n",
       "25%     24.000000   39.500000    1.000000   14.350000    1.700000    0.000000   \n",
       "50%     27.000000   65.500000   11.000000   21.550000    2.700000    0.300000   \n",
       "75%     31.000000   79.000000   63.250000   30.650000    4.700000    0.800000   \n",
       "max     39.000000   85.000000   82.000000   42.200000   12.100000    2.200000   \n",
       "\n",
       "          Two_Pts          FT         ORB         DRB         TRB         AST  \\\n",
       "count  388.000000  388.000000  388.000000  388.000000  388.000000  388.000000   \n",
       "mean     2.901289    1.710052    1.043557    2.643041    3.687113    2.149485   \n",
       "std      2.044801    1.370368    0.844551    1.726770    2.460612    1.814363   \n",
       "min      0.100000    0.000000    0.000000    0.000000    0.000000    0.000000   \n",
       "25%      1.400000    0.700000    0.400000    1.400000    1.800000    0.900000   \n",
       "50%      2.400000    1.300000    0.800000    2.300000    3.100000    1.700000   \n",
       "75%      4.000000    2.400000    1.500000    3.600000    5.000000    2.800000   \n",
       "max     12.100000    7.500000    4.300000   10.300000   14.300000   10.100000   \n",
       "\n",
       "              STL         BLK         TOV          PF         PTS  \n",
       "count  388.000000  388.000000  388.000000  388.000000  388.000000  \n",
       "mean     0.753608    0.384021    1.380928    2.094845    8.934536  \n",
       "std      0.460886    0.489109    0.809024    0.821214    5.766964  \n",
       "min      0.000000    0.000000    0.000000    0.000000    0.700000  \n",
       "25%      0.400000    0.100000    0.700000    1.475000    4.675000  \n",
       "50%      0.600000    0.200000    1.200000    2.200000    7.300000  \n",
       "75%      1.025000    0.400000    1.900000    2.700000   12.325000  \n",
       "max      2.700000    3.700000    4.000000    4.500000   29.700000  "
      ]
     },
     "execution_count": 126,
     "metadata": {},
     "output_type": "execute_result"
    }
   ],
   "source": [
    "Season_2000.describe()"
   ]
  },
  {
   "cell_type": "code",
   "execution_count": 127,
   "id": "9153b00d-ca91-489a-8202-87efe0d8a684",
   "metadata": {},
   "outputs": [
    {
     "name": "stdout",
     "output_type": "stream",
     "text": [
      "               Player Pos   Age   Tm     G    GS    MP   FG  Three_Pts  \\\n",
      "10      Nick Anderson  SG  32.0  SAC  72.0  72.0  29.1  4.3        1.8   \n",
      "66         P.J. Brown  PF  30.0  MIA  80.0  80.0  28.8  4.0        0.0   \n",
      "79       Marcus Camby   C  25.0  NYK  59.0  11.0  26.2  3.8        0.0   \n",
      "178      Kendall Gill  SF  31.0  NJN  76.0  75.0  31.0  5.2        0.3   \n",
      "189  Richard Hamilton  SG  21.0  WAS  71.0  12.0  19.3  3.6        0.4   \n",
      "245     Larry Johnson  PF  30.0  NYK  70.0  68.0  32.6  4.0        0.8   \n",
      "263     Kerry Kittles  SG  25.0  NJN  62.0  61.0  30.6  4.9        1.5   \n",
      "272     Raef LaFrentz   C  23.0  DEN  81.0  80.0  30.1  4.8        0.7   \n",
      "299      Shawn Marion  SF  21.0  PHO  51.0  38.0  24.7  4.4        0.1   \n",
      "307    Vernon Maxwell  SG  34.0  SEA  47.0   0.0  21.0  3.6        1.4   \n",
      "327       Chris Mills  SF  30.0  GSW  20.0  11.0  32.5  6.2        0.4   \n",
      "341      Tracy Murray  SF  28.0  WAS  80.0   8.0  22.9  3.6        1.4   \n",
      "346     Johnny Newman  SF  36.0  NJN  82.0   9.0  21.5  3.4        0.9   \n",
      "371    Anthony Peeler  SG  30.0  MIN  82.0  22.0  25.3  3.9        1.0   \n",
      "376     Wesley Person  SG  28.0  CLE  79.0  38.0  26.0  3.5        1.3   \n",
      "417     Bryon Russell  SF  29.0  UTA  82.0  70.0  35.4  5.0        1.3   \n",
      "422       Malik Sealy  SF  29.0  MIN  82.0  61.0  29.2  4.5        0.1   \n",
      "444   Peja Stojaković  SF  22.0  SAC  74.0  11.0  23.6  4.3        1.4   \n",
      "453  Wally Szczerbiak  SF  22.0  MIN  73.0  53.0  29.7  4.7        0.4   \n",
      "\n",
      "     Two_Pts   FT  ORB  DRB  TRB  AST  STL  BLK  TOV   PF   PTS  \n",
      "10       2.4  0.5  1.2  3.6  4.7  1.7  1.3  0.2  1.3  1.6  10.8  \n",
      "66       4.0  1.5  2.7  4.8  7.5  1.8  0.8  0.8  1.3  3.3   9.6  \n",
      "79       3.8  2.5  2.9  4.9  7.8  0.8  0.7  2.0  1.2  3.5  10.2  \n",
      "178      4.9  2.4  1.1  2.6  3.7  2.8  1.8  0.5  1.2  2.8  13.1  \n",
      "189      3.2  1.5  0.5  1.3  1.8  1.5  0.4  0.1  1.2  2.0   9.0  \n",
      "245      3.2  1.8  1.2  4.2  5.4  2.5  0.6  0.1  1.3  2.9  10.7  \n",
      "263      3.4  1.6  0.7  2.9  3.6  2.3  1.3  0.3  0.9  1.9  13.0  \n",
      "272      4.1  2.0  2.1  5.8  7.9  1.2  0.5  2.2  1.2  3.6  12.4  \n",
      "299      4.3  1.4  2.1  4.5  6.5  1.4  0.7  1.0  1.0  2.2  10.2  \n",
      "307      2.2  2.3  0.3  1.4  1.7  1.6  0.8  0.2  1.1  1.8  10.9  \n",
      "327      5.8  3.4  2.3  3.9  6.2  2.4  0.9  0.2  1.3  3.0  16.1  \n",
      "341      2.2  1.5  0.8  2.6  3.4  0.9  0.6  0.3  1.1  2.3  10.2  \n",
      "346      2.5  2.3  0.5  1.4  1.9  0.8  0.6  0.1  1.1  2.5  10.0  \n",
      "371      2.8  1.1  0.7  2.1  2.8  2.4  0.8  0.1  1.0  2.1   9.8  \n",
      "376      2.2  0.8  0.6  2.8  3.4  1.8  0.5  0.2  0.8  1.5   9.2  \n",
      "417      3.7  2.9  1.2  4.0  5.2  1.9  1.6  0.3  1.2  3.1  14.1  \n",
      "422      4.4  2.2  1.5  2.8  4.3  2.4  0.9  0.2  1.3  2.4  11.3  \n",
      "444      3.0  1.8  1.0  2.7  3.7  1.4  0.7  0.1  1.2  1.3  11.9  \n",
      "453      4.3  1.8  1.2  2.5  3.7  2.8  0.8  0.3  1.1  2.4  11.6  \n"
     ]
    }
   ],
   "source": [
    "# Quais são os jogadores que tiveram desempenho acima da média na temporada?\n",
    "tops_players_2000 = Season_2000.loc[(Season_2000['PTS'] > 8.93) & (Season_2000['FG'] > 3.37) & (Season_2000['TOV'] < 1.38)]\n",
    "print(tops_players_2000)"
   ]
  },
  {
   "cell_type": "code",
   "execution_count": 131,
   "id": "8a1d272c-d1e3-421b-a0a4-807a8ab6fb08",
   "metadata": {},
   "outputs": [
    {
     "name": "stdout",
     "output_type": "stream",
     "text": [
      "Empty DataFrame\n",
      "Columns: [Player, Pos, Age, Tm, G, GS, MP, FG, Three_Pts, Two_Pts, FT, ORB, DRB, TRB, AST, STL, BLK, TOV, PF, PTS]\n",
      "Index: []\n"
     ]
    }
   ],
   "source": [
    "'''\n",
    "Quadruple-double - há algum jogador com números muito acima da média, usaremos o exemplo: 9 pontos,\n",
    "9 rebotes defensivos, 9 assistências e 9 bloqueios?\n",
    "'''\n",
    "tops_rare_players = Season_2000.loc[(Season_2000['PTS']>=9)&(Season_2000['DRB']>=9)&\n",
    "                                    (Season_2000['AST']>=9)&(Season_2000['BLK']>=9)]\n",
    "print(tops_rare_players)"
   ]
  }
 ],
 "metadata": {
  "kernelspec": {
   "display_name": "Python 3 (ipykernel)",
   "language": "python",
   "name": "python3"
  },
  "language_info": {
   "codemirror_mode": {
    "name": "ipython",
    "version": 3
   },
   "file_extension": ".py",
   "mimetype": "text/x-python",
   "name": "python",
   "nbconvert_exporter": "python",
   "pygments_lexer": "ipython3",
   "version": "3.9.12"
  }
 },
 "nbformat": 4,
 "nbformat_minor": 5
}
